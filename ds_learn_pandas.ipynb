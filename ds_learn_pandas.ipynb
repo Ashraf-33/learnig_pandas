{
 "cells": [
  {
   "cell_type": "markdown",
   "id": "7f984692-9fda-4af3-bc36-f6355bb2d08d",
   "metadata": {},
   "source": [
    "# Pandas tutorial"
   ]
  },
  {
   "cell_type": "markdown",
   "id": "f159721a-69f6-4c91-9435-a7b0d9af0f77",
   "metadata": {},
   "source": [
    "# DataFrame\n"
   ]
  },
  {
   "cell_type": "code",
   "execution_count": null,
   "id": "e993a273-6d3c-4616-ac33-37b6422ee135",
   "metadata": {},
   "outputs": [],
   "source": [
    "import numpy as np\n",
    "import pandas as pd\n",
    "# create a dictionary called data with simple data\n",
    "data = {\"Name\":[\"Alice\",\"Bob\",\"Charlie\",\"Megnas\",\"Sara\"],\n",
    "        \"Age\":[25,30,22,35,28],\n",
    "        \"Gender\":[\"Male\",\"Male\",\"Female\",\"Male\",\"Female\"],\n",
    "       \"Salary\":[50000,55000,4000,70000,48000]}\n",
    "\n",
    "df = pd.DataFrame(data)\n",
    "print(df)\n",
    "print(df.index) # Accessing the index"
   ]
  },
  {
   "cell_type": "code",
   "execution_count": null,
   "id": "4a5855a8-f70f-46f2-b665-173bb62547e0",
   "metadata": {},
   "outputs": [],
   "source": [
    "# You can set a custom index by [variable.set_index()]\n",
    "df_with_index = df.set_index(\"Name\")\n",
    "print(df_with_index)\n",
    "# you can see the traditional index method has repleced by name"
   ]
  },
  {
   "cell_type": "code",
   "execution_count": null,
   "id": "4315bd20-b7a9-47af-b213-86d3274feaff",
   "metadata": {},
   "outputs": [],
   "source": [
    "# to reset you can use (variable.reset_index())\n",
    "df_reset = df.reset_index()\n",
    "print(df_reset)"
   ]
  },
  {
   "cell_type": "code",
   "execution_count": null,
   "id": "6ff370fc-bf94-44fa-9e5b-ea336453ad74",
   "metadata": {},
   "outputs": [],
   "source": [
    "# use loc[] for indexing it is traditional method\n",
    "row = df.loc[1]\n",
    "print(row)"
   ]
  },
  {
   "cell_type": "code",
   "execution_count": null,
   "id": "96c39369-2e8b-49ea-b745-3099f3bd3507",
   "metadata": {},
   "outputs": [],
   "source": [
    "# Accessing column\n",
    "age_column = df[\"Age\"]\n",
    "print(age_column)"
   ]
  },
  {
   "cell_type": "code",
   "execution_count": null,
   "id": "acf9afec-4109-4ffd-b140-cf332f4671df",
   "metadata": {},
   "outputs": [],
   "source": [
    "# Accessing row \n",
    "#Note it have two mathod (.iloc[]) for positional and(.loc[]) for label based indexing\n",
    "#Second one i used in previous \n",
    "second_row = df.iloc[1]\n",
    "print(second_row)"
   ]
  },
  {
   "cell_type": "code",
   "execution_count": null,
   "id": "f55942e5-cdbe-4119-8ea2-26cc4e87bdbb",
   "metadata": {},
   "outputs": [],
   "source": [
    "# Accessing multiple row and column using loc[]\n",
    "subset_name_age = df.loc[0:2,[\"Name\",\"Age\"]]\n",
    "print(subset_name_age)"
   ]
  },
  {
   "cell_type": "code",
   "execution_count": null,
   "id": "a11fdf87-17f2-4971-985f-d94ddd09b46f",
   "metadata": {},
   "outputs": [],
   "source": [
    "# Accessing row base condition \n",
    "# get those data which has highet age than 25\n",
    "filtered_data = df[df[\"Age\"]>25]\n",
    "print(filtered_data)"
   ]
  },
  {
   "cell_type": "code",
   "execution_count": null,
   "id": "68e4f179-631b-4404-bf8d-3b75d5086f1e",
   "metadata": {},
   "outputs": [],
   "source": [
    "# Accessin specific cell use .at[] or .iat[] both are same but .at[] gives label based \n",
    "# and .iat[] gives integer position based \n",
    "# let use .at[] for charlie's salary\n",
    "charlis_salary = df.at[2,\"Salary\"] #.at[index(row),position_name]\n",
    "print(charlis_salary)\n",
    "# let use .iat[] for sara's age\n",
    "sara_age = df.iat[4,1] #.iat[index(row),position_in_int] for exam, position_in_int=1 indicate age\n",
    "print(\"Sara's age is \",sara_age)"
   ]
  },
  {
   "cell_type": "markdown",
   "id": "b170babd-29c1-43c5-82a2-25d1fea92d5a",
   "metadata": {},
   "source": [
    "# indexing and selecting\n",
    "Functions  and their Description in the below\n",
    "<br>DataFrame.iat[] = \tAccess a single value for a row/column pair by integer position.\n",
    "<br>DataFrame.pop() = \tReturn item and drop from DataFrame.\n",
    "<br>DataFrame.xs() = Return a cross-section (row(s) or column(s)) from the DataFrame.\n",
    "<br>DataFrame.get() =\tGet item from object for given key (e.g DataFrame column).\n",
    "<br>DataFrame.isin() =\tReturn a boolean DataFrame showing whether each element is contained in values.\n",
    "<br>DataFrame.where() =\tReturn an object of the same shape with entries from self where cond is True otherwise from other.\n",
    "<br>DataFrame.mask() = Return an object of the same shape with entries from self where cond is False otherwise from other.\n",
    "<br>DataFrame.insert() = Insert a column into DataFrame at a specified location."
   ]
  },
  {
   "cell_type": "markdown",
   "id": "f8178654-d826-4193-8e41-21aa7af108fc",
   "metadata": {},
   "source": [
    "# Slicing data"
   ]
  },
  {
   "cell_type": "code",
   "execution_count": null,
   "id": "47469db2-daf0-431a-a54f-d709a20c1f46",
   "metadata": {},
   "outputs": [],
   "source": [
    "import numpy as np\n",
    "import pandas as pd\n",
    "player_list = [[\"MS_Dhoni\",36,75,500000],\n",
    "              [\"Villars\",38,74,380000],\n",
    "              [\"Kholi\",33,70,580000],\n",
    "              [\"Shakib\",32,77,593000],\n",
    "              [\"Liton\",28,69,480000],\n",
    "              [\"Shanto\",30,73,490000],\n",
    "              [\"Tamim\",35,75,600000]]\n",
    "df = pd.DataFrame(player_list,columns=[\"Name\",\"Age\",\"Height\",\"Salary\"])\n",
    "print(df)"
   ]
  },
  {
   "cell_type": "markdown",
   "id": "f837f210-c716-45c4-ac44-06b3ecdff3f8",
   "metadata": {},
   "source": [
    "# slicing using .iloc[] (integer based indexing)"
   ]
  },
  {
   "cell_type": "code",
   "execution_count": null,
   "id": "2436787b-4c7f-4663-a3cb-d8368663df0f",
   "metadata": {},
   "outputs": [],
   "source": [
    "# slicing rows\n",
    "df1_rows = df.iloc[0:4] # in this code output will be index 0 to 3 with all data \n",
    "print(df1_rows)"
   ]
  },
  {
   "cell_type": "code",
   "execution_count": null,
   "id": "e4b6064c-f6b1-473d-9061-0dea12304d2b",
   "metadata": {},
   "outputs": [],
   "source": [
    "#slicing columns \n",
    "df1_columns = df.iloc[:, 0:2] # it will print all data of name and age columns \n",
    "# Note: df.iloc[:, 0:2] there (:) means all data of row\n",
    "print(df1_columns)"
   ]
  },
  {
   "cell_type": "code",
   "execution_count": null,
   "id": "599ae90b-9075-4715-b32d-74d7f24d26f3",
   "metadata": {},
   "outputs": [],
   "source": [
    "# getting specific value\n",
    "# get the salary of Shakib for instance\n",
    "df1_salary = df.iloc[3,3]\n",
    "print(df1_salary)"
   ]
  },
  {
   "cell_type": "code",
   "execution_count": null,
   "id": "135ae0e3-1ace-4a65-80a8-56ed954ddc32",
   "metadata": {},
   "outputs": [],
   "source": [
    "# Using boolean condition\n",
    "# print those player who are more than 35 years old\n",
    "df1_filter = df[df[\"Age\"]>35].iloc[: ,:]\n",
    "print(df1_filter)"
   ]
  },
  {
   "cell_type": "markdown",
   "id": "56a2e3d0-5fdb-49df-b85b-5bbb29422f4e",
   "metadata": {},
   "source": [
    "# Filter dataframe with multiple condition"
   ]
  },
  {
   "cell_type": "code",
   "execution_count": null,
   "id": "0ded37aa-7ffe-4bbf-8b5a-c9068b62e595",
   "metadata": {},
   "outputs": [],
   "source": [
    "# assign module\n",
    "import pandas as pd\n",
    "# assign data\n",
    "dataframe = pd.DataFrame({\"Name\":[\"Rachel\",\"Monica\",\"Phobi\",\"Ross\",\"Chelender\",\"Joey\"],\n",
    "                         \"Age\":[30,35,37,33,34,30],\n",
    "                         \"Salary\":[100000,93000,95000,88000,120000,94000],\n",
    "                         \"Job\":[\"Designer\",\"Chef\",\"Masus\",\"Palentology\",\"It\",\"Artist\"]})\n",
    "# display dataframe\n",
    "display(dataframe)"
   ]
  },
  {
   "cell_type": "code",
   "execution_count": null,
   "id": "1a060011-0966-4f10-b3d3-259386130766",
   "metadata": {},
   "outputs": [],
   "source": [
    "# filter with loc\n",
    "display(dataframe.loc[(dataframe[\"Salary\"]>=100000)&(dataframe[\"Age\"]<40)&\n",
    "        (dataframe[\"Job\"].str.startswith(\"D\")),[\"Name\",\"Job\"]])"
   ]
  },
  {
   "cell_type": "code",
   "execution_count": null,
   "id": "4cc06d0d-202f-4f0e-8d29-8fce27350635",
   "metadata": {},
   "outputs": [],
   "source": [
    "# filter using numpy\n",
    "import numpy as np\n",
    "filter_value = np.where((dataframe[\"Salary\"]<=100000)&(dataframe[\"Age\"]>30)&\n",
    "                       (dataframe[\"Job\"].str.startswith(\"C\")))\n",
    "print(filter_value) # it's gives index or location of the dataframe\n",
    "display(dataframe.loc[filter_value])"
   ]
  },
  {
   "cell_type": "code",
   "execution_count": null,
   "id": "49501fd2-5078-4415-8222-9b43af115fc4",
   "metadata": {},
   "outputs": [],
   "source": [
    "# filter with query\n",
    "display(dataframe.query('Salary <= 100000 & Age > 30 & Job.str.startswith(\"C\").values'))"
   ]
  },
  {
   "cell_type": "code",
   "execution_count": null,
   "id": "2425fe21-3afe-4530-9760-1e514d065171",
   "metadata": {},
   "outputs": [],
   "source": [
    "# using boolean work on a column only\n",
    "display(dataframe[(dataframe[\"Salary\"]>100000)&(dataframe[\"Age\"]<40)&\n",
    "        (dataframe[\"Job\"].str.startswith(\"I\"))]\n",
    "       [[\"Name\",\"Age\",\"Salary\"]])"
   ]
  },
  {
   "cell_type": "code",
   "execution_count": null,
   "id": "e4545284-06a8-4f06-83c9-ed2816169fea",
   "metadata": {},
   "outputs": [],
   "source": [
    "# using .eval\n",
    "display(dataframe[dataframe.eval(\"Salary > 100000 & (Age < 40) & Job.str.startswith('I').values\")])"
   ]
  },
  {
   "cell_type": "markdown",
   "id": "62005cfc-b8b9-4b69-9638-e53716a51dc4",
   "metadata": {},
   "source": [
    "# Note : filtering dataframe is important\n",
    "Here some important point you should know\n",
    "# 1. (.loc[]) works with column labels and indexes.\n",
    "# 2. (.eval and .query) works only with column.\n",
    "# 3. Boolean indexing works with values in a column only."
   ]
  },
  {
   "cell_type": "markdown",
   "id": "af6b1f52-ef96-4e6b-badd-08bb2798322f",
   "metadata": {},
   "source": [
    "# Merging, Joining and Concatenating"
   ]
  },
  {
   "cell_type": "code",
   "execution_count": null,
   "id": "0fdf3262-59ad-4cd3-b191-7a14bb1fbc7d",
   "metadata": {},
   "outputs": [],
   "source": [
    "import pandas as pd\n",
    "data1 = {\"Name\":[\"Roni\",\"Joni\",\"Moni\",\"Depek\"],\n",
    "        \"Age\":[23,24,22,32],\n",
    "        \"Address\":[\"Nakpur\",\"Khanpur\",\"Jattpur\",\"Rongpur\"],\n",
    "        \"Qualification\":[\"MA\",\"PHD\",\"MSC\",\"MCA\"]}\n",
    "\n",
    "data2 = {\"Name\":[\"Abhi\",\"Khabi\",\"Jhabi\",\"Fabi\"],\n",
    "        \"Age\":[17,14,12,52],\n",
    "        \"Address\":[\"Nakpur\",\"Khanpur\",\"Jattpur\",\"Rongpur\"],\n",
    "        \"Qualification\":[\"MA\",\"PHD\",\"MSC\",\"MCA\"]}\n",
    "df = pd.DataFrame(data1, index=[0,1,2,3])\n",
    "\n",
    "df1 = pd.DataFrame(data2, index=[4,5,6,7])\n",
    "print(df, \"\\n\\n\", df1)"
   ]
  },
  {
   "cell_type": "code",
   "execution_count": null,
   "id": "12af53f3-4ca6-4fd7-a83c-afafc801b450",
   "metadata": {},
   "outputs": [],
   "source": [
    "#using pd.concat() for concatenating\n",
    "frame = [df, df1]\n",
    "res1 = pd.concat(frame)\n",
    "res1"
   ]
  },
  {
   "cell_type": "markdown",
   "id": "467caa49-f914-4edb-8515-e9f3b55db8a9",
   "metadata": {},
   "source": [
    "2. concatenating dataframe by setting logic on axis"
   ]
  },
  {
   "cell_type": "code",
   "execution_count": null,
   "id": "b8c96126-bd50-4a51-a35b-59d155308a07",
   "metadata": {
    "scrolled": true
   },
   "outputs": [],
   "source": [
    "import pandas as pd\n",
    "data3 = {\"Name\":[\"Roni\",\"Joni\",\"Moni\",\"Depek\"],\n",
    "        \"Age\":[23,24,22,32],\n",
    "        \"Address\":[\"Nakpur\",\"Khanpur\",\"Jattpur\",\"Rongpur\"],\n",
    "        \"Qualification\":[\"MA\",\"PHD\",\"MSC\",\"MCA\"],\n",
    "        \"Mobile_no\":[97,98,58,76]}\n",
    "\n",
    "data4 = {\"Name\":[\"Abhi\",\"Khabi\",\"Jhabi\",\"Fabi\"],\n",
    "        \"Age\":[17,14,12,52],\n",
    "        \"Address\":[\"Nakpur\",\"Khanpur\",\"Jattpur\",\"Rongpur\"],\n",
    "        \"Qualification\":[\"MA\",\"PHD\",\"MSC\",\"MCA\"],\n",
    "        \"Salary\":[1000,2000,3000,4000]}\n",
    "df2 = pd.DataFrame(data3, index=[0,1,2,3])\n",
    "\n",
    "df3 = pd.DataFrame(data4, index=[4,5,6,7])\n",
    "print(df, \"\\n\\n\", df1)"
   ]
  },
  {
   "cell_type": "code",
   "execution_count": null,
   "id": "24b1dfee-dcc4-4a1c-a729-44d94576874d",
   "metadata": {},
   "outputs": [],
   "source": [
    "res2 = pd.concat([df2, df3], axis=1, join='outer')\n",
    "res2"
   ]
  },
  {
   "cell_type": "code",
   "execution_count": null,
   "id": "4ccd0342-40a1-4719-a55e-3bbb325385a7",
   "metadata": {},
   "outputs": [],
   "source": [
    "#concatenating by ignoring index\n",
    "res3 = pd.concat([df2, df3], ignore_index=True)\n",
    "res3"
   ]
  },
  {
   "cell_type": "markdown",
   "id": "e906ea8d-5aad-4c7d-9a46-b8947659de64",
   "metadata": {},
   "source": [
    "3. concatening with group keys"
   ]
  },
  {
   "cell_type": "code",
   "execution_count": null,
   "id": "20c140c4-170e-4562-b99a-35310c81f5fd",
   "metadata": {},
   "outputs": [],
   "source": [
    "# concatening df and df1\n",
    "res4 = pd.concat([df, df1], keys=['x','y'])\n",
    "res4"
   ]
  },
  {
   "cell_type": "markdown",
   "id": "5770c879-0b79-42dd-8e62-ed4e7f3a574b",
   "metadata": {},
   "source": [
    "4. concatening mixed dataframe and series"
   ]
  },
  {
   "cell_type": "code",
   "execution_count": null,
   "id": "218e3e58-6f9f-41a2-9fc1-94cd9879d214",
   "metadata": {},
   "outputs": [],
   "source": [
    "import pandas as pd\n",
    "data2 = {\"Name\":[\"Jai\",\"Princi\",\"Gaurav\",\"Anuj\"],\n",
    "        \"Age\":[27,24,22,32],\n",
    "        \"Address\":[\"Nagpur\",\"Khanpur\",\"Jattpur\",\"Knnuaj\"],\n",
    "        \"Qualification\":[\"MA\",\"MSc\",\"BA\",\"Phd\"]}\n",
    "data_frame = pd.DataFrame(data2, index=[0,1,2,3])\n",
    "s1 = pd.Series([1000,2000,3000,4000], name=\"Salary\")\n",
    "print(data_frame, \"\\n\\n\", s1)"
   ]
  },
  {
   "cell_type": "code",
   "execution_count": null,
   "id": "fd8b6abb-6219-4a65-bc09-21a2128aad64",
   "metadata": {},
   "outputs": [],
   "source": [
    "#mixing data_frame and s1\n",
    "res5 = pd.concat([data_frame,s1], axis=1)\n",
    "res5"
   ]
  },
  {
   "cell_type": "markdown",
   "id": "4e75e46a-35ef-41aa-ac5d-01f35532d8cb",
   "metadata": {},
   "source": [
    "# Merging"
   ]
  },
  {
   "cell_type": "markdown",
   "id": "a3f68417-e05a-4420-ac57-def7cd716e3b",
   "metadata": {},
   "source": [
    "The merge() function is usefull when a dataframe is based on a common column or index"
   ]
  },
  {
   "cell_type": "code",
   "execution_count": null,
   "id": "f8822bc1-4c0f-42b4-bff1-24bee733019d",
   "metadata": {},
   "outputs": [],
   "source": [
    "import pandas as pd\n",
    "data3 = {\"Key\":[\"K0\",\"K1\",\"K2\",\"K3\"],\n",
    "        \"Name\":[\"Rohim\",\"Korim\",\"Jobbar\",\"Nadim\"],\n",
    "        \"Age\":[27,24,22,32]}\n",
    "data4 = {\"Key\":[\"K0\",\"K1\",\"K2\",\"K3\"],\n",
    "        \"Address\":[\"Rangpur\",\"Khonpur\",\"Bonpur\",\"Jonpur\"],\n",
    "        \"Qualification\":[\"MA\",\"MBA\",\"Phd\",\"BA\"]}\n",
    "df1 = pd.DataFrame(data3)\n",
    "df2 = pd.DataFrame(data4)\n",
    "print(df1,\"\\n\\n\",df2)"
   ]
  },
  {
   "cell_type": "code",
   "execution_count": null,
   "id": "0d469e9e-40ec-44cd-91f4-d60a5f61d28d",
   "metadata": {},
   "outputs": [],
   "source": [
    "# merge using one key\n",
    "ans = pd.merge(df1,df2, on=\"Key\")\n",
    "ans"
   ]
  },
  {
   "cell_type": "markdown",
   "id": "5357d593-617b-4f23-9507-dce648b516a7",
   "metadata": {},
   "source": [
    "2. merge on multiple keys"
   ]
  },
  {
   "cell_type": "code",
   "execution_count": null,
   "id": "05cd909e-df7d-40f0-8e95-65fa9c25b5e7",
   "metadata": {},
   "outputs": [],
   "source": [
    "data5 = {\"Key\":[\"K0\",\"K1\",\"K2\",\"K3\"],\n",
    "        \"Key1\":[\"K0\",\"K1\",\"K0\",\"K1\"],\n",
    "        \"Name\":[\"Jay\",\"Princy\",\"Gaurov\",\"Pinki\"],\n",
    "        \"Age\":[27,24,22,32]}\n",
    "data6 = {\"Key\":[\"K0\",\"K1\",\"K2\",\"K3\"],\n",
    "        \"Key1\":[\"K0\",\"K0\",\"K0\",\"K0\"],\n",
    "        \"Address\":[\"Nakpur\",\"Khanpur\",\"Panpur\",\"Jattpur\"],\n",
    "        \"Qualificaton\":[\"MA\",\"MBA\",\"Msc\",\"BA\"]}\n",
    "df5 = pd.DataFrame(data5)\n",
    "df6 = pd.DataFrame(data6)\n",
    "print(df5,\"\\n\\n\",df6)\n",
    "\n",
    "ans2 = pd.merge(df5,df6, on=[\"Key\",\"Key1\"])\n",
    "print(\"After merging\", ans2)"
   ]
  },
  {
   "cell_type": "markdown",
   "id": "bb0237ff-bf20-47f3-bb38-73dd9915e6d8",
   "metadata": {},
   "source": [
    "3. Merging using how Argument\n",
    " MERGE : METHOD :JOIN NAME :\tDESCRIPTION <br>\n",
    "left :\tLEFT OUTER JOIN :\tUse keys from left frame only<br>\n",
    "right :\tRIGHT OUTER JOIN :\tUse keys from right frame only<br>\n",
    "outer\t: FULL OUTER JOIN :\tUse union of keys from both frames<br>\n",
    "inner :\tINNER JOIN :\tUse intersection of keys from both frames"
   ]
  },
  {
   "cell_type": "code",
   "execution_count": null,
   "id": "e2ea25e3-e21b-474c-a948-8bd3337e713b",
   "metadata": {},
   "outputs": [],
   "source": [
    "# how=\"left\"means in order to use keys from left frame only.\n",
    "# in this it include all rows from the left DataFrame and only matching rows from the right. \n",
    "ans3 = pd.merge(df5,df6,how=\"left\",on=[\"Key\",\"Key1\"])\n",
    "ans3"
   ]
  },
  {
   "cell_type": "code",
   "execution_count": null,
   "id": "fb5eb2d9-0099-4cbd-a446-9c1cb9638a24",
   "metadata": {},
   "outputs": [],
   "source": [
    "# how=\"right\"means  in order to use keys from right frame only.\n",
    "# In this it includes all rows from the right DataFrame and only matching rows from the left.\n",
    "ans4 = pd.merge(df5,df6,how=\"right\",on=[\"Key\",\"Key1\"])\n",
    "ans4"
   ]
  },
  {
   "cell_type": "code",
   "execution_count": null,
   "id": "76f5b029-2f23-4478-b8d0-eab4e5665637",
   "metadata": {},
   "outputs": [],
   "source": [
    "# how = 'outer' in order to get union of keys from dataframes.\n",
    "#In this it combines all rows from both DataFrames, filling missing values with NaN.\n",
    "ans5 = pd.merge(df5,df6,how=\"outer\",on=[\"Key\",\"Key1\"])\n",
    "ans5"
   ]
  },
  {
   "cell_type": "code",
   "execution_count": null,
   "id": "eca71daa-f167-4baf-86e1-2344c91a2bee",
   "metadata": {},
   "outputs": [],
   "source": [
    "#how = 'inner' in order to get intersection of keys from dataframes. \n",
    "#In this it only includes rows where there is a match in both DataFrames.\n",
    "ans6 = pd.merge(df5,df6,how=\"inner\",on=[\"Key\",\"Key1\"])\n",
    "ans6"
   ]
  },
  {
   "cell_type": "markdown",
   "id": "8bf7de87-7152-44c5-be9e-436d68be67f4",
   "metadata": {},
   "source": [
    "# Joining using .join()"
   ]
  },
  {
   "cell_type": "code",
   "execution_count": null,
   "id": "d5411823-4c14-440d-9496-e73bc4ae26c7",
   "metadata": {},
   "outputs": [],
   "source": [
    "import pandas as pd\n",
    "data7 = {'Name':['Jai', 'Princi', 'Gaurav', 'Anuj'],\n",
    "        'Age':[27, 24, 22, 32]}\n",
    "\n",
    "data8 = {'Address':['Allahabad', 'Kannuaj', 'Allahabad', 'Kannuaj'],\n",
    "        'Qualification':['MCA', 'Phd', 'Bcom', 'B.hons']}\n",
    "\n",
    "df7 = pd.DataFrame(data7,index=['K0', 'K1', 'K2', 'K3'])\n",
    "\n",
    "df8 = pd.DataFrame(data8, index=['K0', 'K2', 'K3', 'K4'])\n",
    "\n",
    "print(df7, \"\\n\\n\", df8)\n",
    "\n",
    "dat_join = df7.join(df8)\n",
    "dat_join"
   ]
  },
  {
   "cell_type": "code",
   "execution_count": null,
   "id": "89427e1a-21c1-4188-a3ac-16af0ec58e28",
   "metadata": {},
   "outputs": [],
   "source": [
    "# now we use how=\"outer\" to get union\n",
    "dat_join2 = df7.join(df8,how=\"outer\")\n",
    "print(dat_join2)"
   ]
  },
  {
   "cell_type": "markdown",
   "id": "8eaeae0c-f79d-4188-85a4-670064645c44",
   "metadata": {},
   "source": [
    "2. Joining with on argument"
   ]
  },
  {
   "cell_type": "code",
   "execution_count": null,
   "id": "b4053365-2c5a-43f3-9dbc-28295baade46",
   "metadata": {},
   "outputs": [],
   "source": [
    "import pandas as pd\n",
    "\n",
    "data9 = {'Name':['Jai', 'Princi', 'Gaurav', 'Anuj'],\n",
    "        'Age':[27, 24, 22, 32],\n",
    "        'Key':['K0', 'K1', 'K2', 'K3']}\n",
    "\n",
    "data10 = {'Address':['Allahabad', 'Kannuaj', 'Allahabad', 'Kannuaj'],\n",
    "        'Qualification':['MCA', 'Phd', 'Bcom', 'B.hons']}\n",
    "\n",
    "df9 = pd.DataFrame(data9)\n",
    "\n",
    "df10 = pd.DataFrame(data10, index=['K0', 'K2', 'K3', 'K4'])\n",
    "\n",
    "\n",
    "print(df9, \"\\n\\n\", df10)\n",
    "\n",
    "result = df9.join(df10,on=\"Key\")\n",
    "print(\"result is based on key \\n\",result)"
   ]
  },
  {
   "cell_type": "markdown",
   "id": "b0cafd8b-6bd0-49f8-9d26-059d25b68cf9",
   "metadata": {},
   "source": [
    "3. Joining with multiple index"
   ]
  },
  {
   "cell_type": "code",
   "execution_count": null,
   "id": "11ed32c2-3efc-40fa-ac8a-9dfcaa168e29",
   "metadata": {},
   "outputs": [],
   "source": [
    "import pandas as pd\n",
    "\n",
    "data11 = {'Name':['Jai', 'Princi', 'Gaurav'],\n",
    "        'Age':[27, 24, 22]}\n",
    "\n",
    "data12 = {'Address':['Allahabad', 'Kannuaj', 'Allahabad', 'Kanpur'],\n",
    "        'Qualification':['MCA', 'Phd', 'Bcom', 'B.hons']}\n",
    "\n",
    "df11 = pd.DataFrame(data11, index=pd.Index(['K0', 'K1', 'K2'], name='key'))\n",
    "\n",
    "index = pd.MultiIndex.from_tuples([('K0', 'Y0'), ('K1', 'Y1'),\n",
    "                                   ('K2', 'Y2'), ('K2', 'Y3')],\n",
    "                                   names=['key', 'Y'])\n",
    "\n",
    "df12 = pd.DataFrame(data12, index= index)\n",
    "\n",
    "\n",
    "print(df11, \"\\n\\n\", df12)"
   ]
  },
  {
   "cell_type": "code",
   "execution_count": null,
   "id": "f3a10d7a-5c2b-4037-bac6-717b0b70994b",
   "metadata": {},
   "outputs": [],
   "source": [
    "result = df11.join(df12, how='inner')\n",
    "print(result)"
   ]
  },
  {
   "cell_type": "code",
   "execution_count": null,
   "id": "b044bace-81b8-4a48-a98e-130d034578c1",
   "metadata": {},
   "outputs": [],
   "source": []
  }
 ],
 "metadata": {
  "kernelspec": {
   "display_name": "Python 3 (ipykernel)",
   "language": "python",
   "name": "python3"
  },
  "language_info": {
   "codemirror_mode": {
    "name": "ipython",
    "version": 3
   },
   "file_extension": ".py",
   "mimetype": "text/x-python",
   "name": "python",
   "nbconvert_exporter": "python",
   "pygments_lexer": "ipython3",
   "version": "3.12.7"
  }
 },
 "nbformat": 4,
 "nbformat_minor": 5
}
