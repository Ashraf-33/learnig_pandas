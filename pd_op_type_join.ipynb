{
 "cells": [
  {
   "cell_type": "markdown",
   "id": "2b52f78e-8673-48c7-89a6-d96c7a6592f7",
   "metadata": {},
   "source": [
    "# Different Types of Joins in Pandas:\n",
    "There are five types of Joins in Pandas:<br>\n",
    "<b>Inner Join<br>\n",
    "Left Outer Join<br>\n",
    "Right Outer Join<br>\n",
    "Full Outer Join or simply Outer Join<br>\n",
    "Index Join</b>"
   ]
  },
  {
   "cell_type": "code",
   "execution_count": 2,
   "id": "a99aeb9d-89f6-42ad-ad53-d691e6cc914d",
   "metadata": {},
   "outputs": [
    {
     "name": "stdout",
     "output_type": "stream",
     "text": [
      "   ID val1\n",
      "0   1    a\n",
      "1   2    b\n",
      "2  10    c\n",
      "3  12    d \n",
      "    ID val1\n",
      "0   1    e\n",
      "1   2    f\n",
      "2   9    g\n",
      "3   8    h\n"
     ]
    }
   ],
   "source": [
    "# to utilize them create to dataframe as a and b.\n",
    "import pandas as pd\n",
    "a = pd.DataFrame({\"ID\":[1,2,10,12],\n",
    "                 \"val1\":[\"a\",\"b\",\"c\",\"d\"]})\n",
    "b = pd.DataFrame({\"ID\":[1,2,9,8],\n",
    "                 \"val1\":[\"e\",\"f\",\"g\",\"h\"]})\n",
    "print(a,\"\\n\",b)"
   ]
  },
  {
   "cell_type": "markdown",
   "id": "2b97bdfd-2db3-43e6-91ee-d118aefee7c1",
   "metadata": {},
   "source": [
    "<h1>Pandas Inner Join:</h1>\n",
    "It returns a Dataframe with only those rows that have common characteristics.<br>\n",
    "This is similar to the intersection of two sets."
   ]
  },
  {
   "cell_type": "code",
   "execution_count": 3,
   "id": "aad85310-6d84-4add-a961-48640b04d726",
   "metadata": {},
   "outputs": [
    {
     "name": "stdout",
     "output_type": "stream",
     "text": [
      "   ID val1_x val1_y\n",
      "0   1      a      e\n",
      "1   2      b      f\n"
     ]
    }
   ],
   "source": [
    "#example: inner join a and b with merge of how = inner\n",
    "df = pd.merge(a,b,on=\"ID\",how=\"inner\")\n",
    "print(df)"
   ]
  },
  {
   "cell_type": "markdown",
   "id": "ad8f1f12-7f95-4f11-a016-342dd1a22d4f",
   "metadata": {},
   "source": [
    "<h1>Pandas Left Join:</h1>\n",
    "<p>With a left outer join, all the records from the first Dataframe will be displayed, irrespective of whether the keys in the first Dataframe can be found in the second Dataframe. Whereas, for the second Dataframe, only the records with the keys in the second Dataframe that can be found in the first Dataframe will be displayed.</p>"
   ]
  },
  {
   "cell_type": "code",
   "execution_count": 4,
   "id": "c56e5769-e703-4c45-ae72-15c26eb66a1c",
   "metadata": {},
   "outputs": [
    {
     "name": "stdout",
     "output_type": "stream",
     "text": [
      "   ID val1_x val1_y\n",
      "0   1      a      e\n",
      "1   2      b      f\n",
      "2  10      c    NaN\n",
      "3  12      d    NaN\n"
     ]
    }
   ],
   "source": [
    "#example:left join\n",
    "df2 = pd.merge(a,b,on=\"ID\",how=\"left\")\n",
    "print(df2)"
   ]
  },
  {
   "cell_type": "markdown",
   "id": "e2299373-545a-40ee-86b9-ac2210e94773",
   "metadata": {},
   "source": [
    "<h1>Pandas Right Outer Join:</h1>\n",
    "<p>For a right join, all the records from the second Dataframe will be displayed. However, only the records with the keys in the first Dataframe that can be found in the second Dataframe will be displayed.</p>"
   ]
  },
  {
   "cell_type": "code",
   "execution_count": 5,
   "id": "b1327a86-447d-46c2-935b-2ccc8e124c2e",
   "metadata": {},
   "outputs": [
    {
     "name": "stdout",
     "output_type": "stream",
     "text": [
      "   ID val1_x val1_y\n",
      "0   1      a      e\n",
      "1   2      b      f\n",
      "2   9    NaN      g\n",
      "3   8    NaN      h\n"
     ]
    }
   ],
   "source": [
    "#example:right outer join:\n",
    "df3 = pd.merge(a,b,on=\"ID\",how=\"right\")\n",
    "print(df3)"
   ]
  },
  {
   "cell_type": "markdown",
   "id": "5153b8bf-f0e5-4c1f-a65a-251ecf7c54c3",
   "metadata": {},
   "source": [
    "<h1>Pandas Full Outer Join:</h1>\n",
    "<p>A full outer join returns all the rows from the left Dataframe, and all the rows from the right Dataframe, and matches up rows where possible, with NaNs elsewhere. But if the Dataframe is complete, then we get the same output.</p>"
   ]
  },
  {
   "cell_type": "code",
   "execution_count": 6,
   "id": "34c0553b-d2ec-4f8e-bb50-ed48d98b9cb9",
   "metadata": {},
   "outputs": [
    {
     "name": "stdout",
     "output_type": "stream",
     "text": [
      "   ID val1_x val1_y\n",
      "0   1      a      e\n",
      "1   2      b      f\n",
      "2   8    NaN      h\n",
      "3   9    NaN      g\n",
      "4  10      c    NaN\n",
      "5  12      d    NaN\n"
     ]
    }
   ],
   "source": [
    "#example:full outer join:\n",
    "df4 = pd.merge(a,b,on=\"ID\",how=\"outer\")\n",
    "print(df4)"
   ]
  },
  {
   "cell_type": "markdown",
   "id": "50b3df8a-edc2-439f-9950-bfccf86350d3",
   "metadata": {},
   "source": [
    "<h1>Pandas Index Join:</h1>\n",
    "<p>To merge the Dataframe on indices pass the left_index and right_index arguments as True i.e. both the Dataframes are merged on an index using default Inner Join.</p>"
   ]
  },
  {
   "cell_type": "code",
   "execution_count": 10,
   "id": "7ecf91c1-a48f-4894-9a40-5791d0a6a496",
   "metadata": {},
   "outputs": [
    {
     "name": "stdout",
     "output_type": "stream",
     "text": [
      "   ID_x val1_x  ID_y val1_y\n",
      "0     1      a     1      e\n",
      "1     2      b     2      f\n",
      "2    10      c     9      g\n",
      "3    12      d     8      h\n"
     ]
    }
   ],
   "source": [
    "#example: index join\n",
    "df5 = pd.merge(a,b,left_index=True,right_index=True)\n",
    "print(df5)"
   ]
  },
  {
   "cell_type": "code",
   "execution_count": null,
   "id": "2597d825-1432-420b-aac5-3e3ad22fe555",
   "metadata": {},
   "outputs": [],
   "source": []
  }
 ],
 "metadata": {
  "kernelspec": {
   "display_name": "Python 3 (ipykernel)",
   "language": "python",
   "name": "python3"
  },
  "language_info": {
   "codemirror_mode": {
    "name": "ipython",
    "version": 3
   },
   "file_extension": ".py",
   "mimetype": "text/x-python",
   "name": "python",
   "nbconvert_exporter": "python",
   "pygments_lexer": "ipython3",
   "version": "3.12.7"
  }
 },
 "nbformat": 4,
 "nbformat_minor": 5
}
