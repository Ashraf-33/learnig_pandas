{
 "cells": [
  {
   "cell_type": "markdown",
   "id": "8dffa1fe-2dee-47ec-adb4-5202a231d886",
   "metadata": {},
   "source": [
    "# Grouping and Aggregating with Pandas:\n",
    "<h1>Aggregation in Pandas:</h1>\n",
    "<P>Aggregation means applying a mathematical function to summarize data. The function used for aggregation is <b>agg()</b> the parameter is the function we want to perform.<br>\n",
    "Some functions used in the aggregation are:</P>\n",
    "<p>Function\t :  Description<br>\n",
    "<b>sum():</b>\tCompute sum of column values<br>\n",
    "<b>min():</b>\tCompute min of column values<br>\n",
    "<b>max():</b>\tCompute max of column values<br>\n",
    "<b>mean():</b>\tCompute mean of column<br>\n",
    "<b>size():</b>\tCompute column sizes<br>\n",
    "<b>describe():</b>\tGenerates descriptive statistics<br>\n",
    "<b>first():</b>\tCompute first of group values<br>\n",
    "<b>last():</b>\tCompute last of group values<br>\n",
    "<b>count():</b>\tCompute count of column values<br>\n",
    "<b>std():</b>\tStandard deviation of column<br>\n",
    "<b>var():</b>\tCompute variance of column<br>\n",
    "<b>sem():</b>\tStandard error of the mean of column</p>"
   ]
  },
  {
   "cell_type": "code",
   "execution_count": 1,
   "id": "d3cc8d8e-aa10-4e79-b203-a1059ad10fc9",
   "metadata": {},
   "outputs": [
    {
     "name": "stdout",
     "output_type": "stream",
     "text": [
      "   Maths  English  Science  History\n",
      "0      9        4        8        9\n",
      "1      8       10        7        6\n",
      "2      7        6        8        5\n"
     ]
    }
   ],
   "source": [
    "import pandas as pd\n",
    "\n",
    "df = pd.DataFrame([[9, 4, 8, 9],\n",
    "                   [8, 10, 7, 6],\n",
    "                   [7, 6, 8, 5]],\n",
    "                  columns=['Maths',  'English', \n",
    "                           'Science', 'History'])\n",
    "\n",
    "print(df)"
   ]
  },
  {
   "cell_type": "markdown",
   "id": "62e54ab5-2cec-4888-817c-ccf0502df4a5",
   "metadata": {},
   "source": [
    "<b>Applying Multiple Aggregations at Once (agg()):</b>"
   ]
  },
  {
   "cell_type": "code",
   "execution_count": 3,
   "id": "8f36ff4b-f434-40a1-87db-99a6331452ca",
   "metadata": {},
   "outputs": [
    {
     "name": "stdout",
     "output_type": "stream",
     "text": [
      "      Maths    English    Science    History\n",
      "sum    24.0  20.000000  23.000000  20.000000\n",
      "min     7.0   4.000000   7.000000   5.000000\n",
      "max     9.0  10.000000   8.000000   9.000000\n",
      "mean    8.0   6.666667   7.666667   6.666667\n"
     ]
    }
   ],
   "source": [
    "print(df.agg([\"sum\",\"min\",\"max\",\"mean\"]))"
   ]
  },
  {
   "cell_type": "markdown",
   "id": "d3eed3de-2e6b-4e56-abe4-bdfd7a192742",
   "metadata": {},
   "source": [
    "<h1>Grouping in Pandas:</h1>\n",
    "Grouping in Pandas means organizing your data into groups based on some columns.<br>\n",
    "This method follows a <b>split-apply-combine</b> process:<br>\n",
    "<p><b>Split</b> the data into groups.<br>\n",
    "<b>Apply</b> some calculation like sum, average etc.<br>\n",
    "<b>Combine</b> the results into a new table.</p>"
   ]
  },
  {
   "cell_type": "code",
   "execution_count": 5,
   "id": "412709b3-cf49-4558-809b-6086a9798dd1",
   "metadata": {},
   "outputs": [
    {
     "name": "stdout",
     "output_type": "stream",
     "text": [
      "     Item       Flavor  Price\n",
      "0    Cake    Chocolate    250\n",
      "1    Cake      Vanilla    220\n",
      "2   Bread  Whole Wheat     80\n",
      "3  Pastry   Strawberry    120\n",
      "4    Cake    Chocolate    250\n"
     ]
    }
   ],
   "source": [
    "import pandas as pd\n",
    "\n",
    "data = {\n",
    "    'Item': ['Cake', 'Cake', 'Bread', 'Pastry', 'Cake'],\n",
    "    'Flavor': ['Chocolate', 'Vanilla', 'Whole Wheat', 'Strawberry', 'Chocolate'],\n",
    "    'Price': [250, 220, 80, 120, 250]\n",
    "}\n",
    "\n",
    "df2 = pd.DataFrame(data)\n",
    "print(df2)"
   ]
  },
  {
   "cell_type": "markdown",
   "id": "80d20947-dbc9-43c9-a116-ee98da536ef7",
   "metadata": {},
   "source": [
    "<h3>1. Grouping Data by One Column Using groupby():</h3>"
   ]
  },
  {
   "cell_type": "code",
   "execution_count": 7,
   "id": "c912eec3-0cfa-48cf-8250-f381e054d7f3",
   "metadata": {},
   "outputs": [
    {
     "name": "stdout",
     "output_type": "stream",
     "text": [
      "<pandas.core.groupby.generic.DataFrameGroupBy object at 0x00000243D045B830>\n"
     ]
    }
   ],
   "source": [
    "grouped = df2.groupby(\"Item\")\n",
    "print(grouped)"
   ]
  },
  {
   "cell_type": "markdown",
   "id": "1164ddc7-3285-4a4f-adfc-b1a073c9fa3e",
   "metadata": {},
   "source": [
    "<P>This doesn't show the result directly it just creates a grouped object. To actually see the data we need to apply a method like .sum(), .mean() or first().</P>"
   ]
  },
  {
   "cell_type": "code",
   "execution_count": 8,
   "id": "1b036dfd-13a4-44d1-b0f0-a67a3f5b052f",
   "metadata": {},
   "outputs": [
    {
     "name": "stdout",
     "output_type": "stream",
     "text": [
      "Item\n",
      "Bread      80\n",
      "Cake      720\n",
      "Pastry    120\n",
      "Name: Price, dtype: int64\n"
     ]
    }
   ],
   "source": [
    "# print the sum of item:\n",
    "print(df2.groupby(\"Item\")[\"Price\"].sum())"
   ]
  },
  {
   "cell_type": "markdown",
   "id": "2e818677-4529-4cca-a0cf-2c0121a6fc38",
   "metadata": {},
   "source": [
    "<h3>2. Grouping by Multiple Columns:</h3>"
   ]
  },
  {
   "cell_type": "code",
   "execution_count": 9,
   "id": "183a8d29-1c99-42ac-a522-a198cd759560",
   "metadata": {},
   "outputs": [
    {
     "name": "stdout",
     "output_type": "stream",
     "text": [
      "Item    Flavor     \n",
      "Bread   Whole Wheat     80\n",
      "Cake    Chocolate      500\n",
      "        Vanilla        220\n",
      "Pastry  Strawberry     120\n",
      "Name: Price, dtype: int64\n"
     ]
    }
   ],
   "source": [
    "# get the sum of Item and Flavor:\n",
    "print(df2.groupby([\"Item\",\"Flavor\"])[\"Price\"].sum())"
   ]
  },
  {
   "cell_type": "code",
   "execution_count": null,
   "id": "8843fad4-dde2-4623-a99d-d92e94c145f4",
   "metadata": {},
   "outputs": [],
   "source": []
  }
 ],
 "metadata": {
  "kernelspec": {
   "display_name": "Python 3 (ipykernel)",
   "language": "python",
   "name": "python3"
  },
  "language_info": {
   "codemirror_mode": {
    "name": "ipython",
    "version": 3
   },
   "file_extension": ".py",
   "mimetype": "text/x-python",
   "name": "python",
   "nbconvert_exporter": "python",
   "pygments_lexer": "ipython3",
   "version": "3.12.7"
  }
 },
 "nbformat": 4,
 "nbformat_minor": 5
}
