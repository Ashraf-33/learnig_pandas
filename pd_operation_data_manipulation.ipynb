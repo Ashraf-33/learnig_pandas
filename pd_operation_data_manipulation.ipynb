{
 "cells": [
  {
   "cell_type": "code",
   "execution_count": 1,
   "id": "e687eb2a-0128-4d39-985c-00ae61635b5d",
   "metadata": {},
   "outputs": [
    {
     "name": "stdout",
     "output_type": "stream",
     "text": [
      "      Name  Age  Student\n",
      "0  Abhijit   20    False\n",
      "1   Smriti   19     True\n",
      "2    Akash   20     True\n",
      "3   Roshni   14    False\n"
     ]
    }
   ],
   "source": [
    "# Importing the pandas library\n",
    "import pandas as pd\n",
    "\n",
    "# creating a dataframe object\n",
    "student_register = pd.DataFrame()\n",
    "\n",
    "# assigning values to the \n",
    "# rows and columns of the dataframe\n",
    "student_register['Name'] = ['Abhijit','Smriti',\n",
    "                            'Akash', 'Roshni']\n",
    "student_register['Age'] = [20, 19, 20, 14]\n",
    "student_register['Student'] = [False, True,\n",
    "                               True, False]\n",
    "\n",
    "print(student_register)"
   ]
  },
  {
   "cell_type": "markdown",
   "id": "cf5f0cdc-c1d3-4ae8-9313-f3a4486ac9a2",
   "metadata": {},
   "source": [
    "<h1>Data Manipulation on Dataset:</h1>\n",
    "<b>Getting Shape and information of the data:</b>\n",
    "<p>There are three support functions, .shape, .info() and .corr() which output the shape of the table, information on rows and columns, and correlation between numerical columns.</p>"
   ]
  },
  {
   "cell_type": "code",
   "execution_count": 8,
   "id": "4ea0ee8b-bcfe-4eaf-9fb8-343dc325756f",
   "metadata": {},
   "outputs": [
    {
     "name": "stdout",
     "output_type": "stream",
     "text": [
      "Info:\n",
      "\n",
      "<class 'pandas.core.frame.DataFrame'>\n",
      "RangeIndex: 4 entries, 0 to 3\n",
      "Data columns (total 3 columns):\n",
      " #   Column   Non-Null Count  Dtype \n",
      "---  ------   --------------  ----- \n",
      " 0   Name     4 non-null      object\n",
      " 1   Age      4 non-null      int64 \n",
      " 2   Student  4 non-null      bool  \n",
      "dtypes: bool(1), int64(1), object(1)\n",
      "memory usage: 200.0+ bytes\n",
      "\n",
      "Shape:\n",
      "\n",
      "(4, 3)\n",
      "\n",
      "Correlation:\n",
      "\n",
      "              Age   Student\n",
      "Age      1.000000  0.502519\n",
      "Student  0.502519  1.000000\n"
     ]
    }
   ],
   "source": [
    "# Dimension of the dataset:\n",
    "# use .info():\n",
    "print(\"Info:\\n\")\n",
    "student_register.info()\n",
    "# use .shape:\n",
    "print(\"\\nShape:\\n\")\n",
    "print(student_register.shape)\n",
    "# use .corr():\n",
    "print(\"\\nCorrelation:\\n\")\n",
    "print(student_register.corr(numeric_only=True))"
   ]
  },
  {
   "cell_type": "markdown",
   "id": "e28a5971-ef11-4a4a-87cf-8b9c24514365",
   "metadata": {},
   "source": [
    "<h1>Getting Statistical Analysis of Data:</h1>\n",
    "<p>Before processing and wrangling any data you need to get the total overview of it, which includes statistical conclusions like standard deviation(std), mean and it’s quartile distributions.</p>"
   ]
  },
  {
   "cell_type": "code",
   "execution_count": 1,
   "id": "c1c71873-0f52-476a-9a64-a50e75dce1d7",
   "metadata": {},
   "outputs": [],
   "source": [
    "# Importing the pandas library\n",
    "import pandas as pd\n",
    "\n",
    "# creating a dataframe object\n",
    "student_register = pd.DataFrame()\n",
    "\n",
    "# assigning values to the \n",
    "# rows and columns of the dataframe\n",
    "student_register['Name'] = ['Abhijit','Smriti',\n",
    "                            'Akash', 'Roshni']\n",
    "student_register['Age'] = [20, 19, 20, 14]\n",
    "student_register['Student'] = [False, True,True, False]"
   ]
  },
  {
   "cell_type": "code",
   "execution_count": 4,
   "id": "03a69c1a-2e71-4a2e-8f48-5b5007082261",
   "metadata": {},
   "outputs": [
    {
     "name": "stdout",
     "output_type": "stream",
     "text": [
      "Describe :\n",
      "              Age\n",
      "count   4.000000\n",
      "mean   18.250000\n",
      "std     2.872281\n",
      "min    14.000000\n",
      "25%    17.750000\n",
      "50%    19.500000\n",
      "75%    20.000000\n",
      "max    20.000000\n"
     ]
    }
   ],
   "source": [
    "# for showing the statistical info in the dataframe.\n",
    "print(\"Describe :\\n\",student_register.describe())"
   ]
  },
  {
   "cell_type": "markdown",
   "id": "ed12e0c6-55a4-420e-90d0-19e45c60c0b5",
   "metadata": {},
   "source": [
    "<b>The description of the output given by .describe() method is as follows:</b><br> \n",
    "\n",
    "1. count is the number of rows in the dataframe.\n",
    "2. mean is the mean value of all the entries in the “Age” column.\n",
    "3. std is the standard deviation of the corresponding column.\n",
    "4. min and max are the minimum and maximum entry in the column respectively.\n",
    "5. 25%, 50% and 75% are the First Quartiles, Second Quartile(Median) and Third Quartile respectively, which gives us important info on the distribution of the dataset and makes it simpler to apply an ML model."
   ]
  },
  {
   "cell_type": "markdown",
   "id": "b1f32871-0111-44e3-83eb-62a4bd0337a4",
   "metadata": {},
   "source": [
    "<h1>Dropping Columns from Data:</h1>\n",
    "Let's drop a column from the data. We will use the drop function from the pandas. We will keep axis = 1 for columns."
   ]
  },
  {
   "cell_type": "code",
   "execution_count": 10,
   "id": "50fb82df-4b71-48f3-8170-a5523a091504",
   "metadata": {},
   "outputs": [
    {
     "name": "stdout",
     "output_type": "stream",
     "text": [
      "      Name  Student\n",
      "0  Abhijit    False\n",
      "1   Smriti     True\n",
      "2    Akash     True\n",
      "3   Roshni    False\n"
     ]
    }
   ],
   "source": [
    "student = student_register.drop(\"Age\",axis=1)\n",
    "print(student)\n",
    "# From the output, we can see that the 'Age' column is dropped."
   ]
  },
  {
   "cell_type": "markdown",
   "id": "aa26a7d5-f2f8-4b6a-aca7-e107ac4faa86",
   "metadata": {},
   "source": [
    "<h1>Dropping Rows from Data:</h1>\n",
    "Let's try dropping a row from the dataset, for this, we will use drop function. We will keep axis=0."
   ]
  },
  {
   "cell_type": "code",
   "execution_count": 11,
   "id": "2f559fa4-df16-4d6f-b644-259f439208d6",
   "metadata": {},
   "outputs": [
    {
     "name": "stdout",
     "output_type": "stream",
     "text": [
      "      Name  Student\n",
      "0  Abhijit    False\n",
      "1   Smriti     True\n",
      "3   Roshni    False\n"
     ]
    }
   ],
   "source": [
    "student = student.drop(2,axis=0)\n",
    "print(student)\n",
    "#In the output we can see that the 2 row is dropped."
   ]
  },
  {
   "cell_type": "code",
   "execution_count": null,
   "id": "2bb63a97-9f8f-4506-bab0-3357ed332d84",
   "metadata": {},
   "outputs": [],
   "source": []
  }
 ],
 "metadata": {
  "kernelspec": {
   "display_name": "Python 3 (ipykernel)",
   "language": "python",
   "name": "python3"
  },
  "language_info": {
   "codemirror_mode": {
    "name": "ipython",
    "version": 3
   },
   "file_extension": ".py",
   "mimetype": "text/x-python",
   "name": "python",
   "nbconvert_exporter": "python",
   "pygments_lexer": "ipython3",
   "version": "3.12.7"
  }
 },
 "nbformat": 4,
 "nbformat_minor": 5
}
