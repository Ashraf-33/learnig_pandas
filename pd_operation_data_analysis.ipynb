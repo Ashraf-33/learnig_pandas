{
 "cells": [
  {
   "cell_type": "markdown",
   "id": "d2185d4e-a6d6-466e-aeac-409366a7dd29",
   "metadata": {},
   "source": [
    "# Pandas dataframe.groupby() Method:\n",
    "<p>Pandas <b>groupby()</b> function is a powerful tool used to split a DataFrame into groups based on one or more columns, allowing for efficient data analysis and aggregation. It follows a \"split-apply-combine\" strategy, where data is divided into groups, a function is applied to each group, and the results are combined into a new DataFrame.</p>"
   ]
  },
  {
   "cell_type": "code",
   "execution_count": 1,
   "id": "49356d13-129f-4b87-b486-ceeb51808ee4",
   "metadata": {},
   "outputs": [
    {
     "name": "stdout",
     "output_type": "stream",
     "text": [
      "Product_category\n",
      "Electronics    500\n",
      "Furniture      250\n",
      "Name: Sales, dtype: int64\n"
     ]
    }
   ],
   "source": [
    "# example \n",
    "import pandas as pd\n",
    "data = pd.DataFrame({\"Product_category\":[\"Electronics\",\"Furniture\",\"Electronics\",\"Furniture\"],\n",
    "                    \"Sales\":[200,150,300,100]})\n",
    "# group by product_category and sum sales:\n",
    "result = data.groupby(\"Product_category\")[\"Sales\"].sum()\n",
    "print(result)"
   ]
  },
  {
   "cell_type": "markdown",
   "id": "b6244efa-94a6-4fae-8a88-caf1a6f7d72a",
   "metadata": {},
   "source": [
    "<h1>Use of groupby() method:</h1>\n",
    "<p>The groupby() function in Pandas involves three main steps: <b>Splitting, Applying, and Combining</b>.</p><br>\n",
    "<p><b>splitting:</b> This step involves dividing the DataFrame into groups based on some criteria. The groups are defined by unique values in one or more columns.<br>\n",
    "<b>Applying:</b> In this step, a function is applied to each group independently. You can apply various functions to each group, such as:<br>\n",
    "<p>   1.Aggregation: Calculate summary statistics (e.g., sum, mean, count) for each group.<br>\n",
    "      2.Transformation: Modify the values within each group.<br>\n",
    "       3.Filtering: Keep or discard groups based on certain conditions.</p><br>\n",
    "<b>Combining:</b> Finally, the results of the applied function are combined into a new DataFrame or Series.</p>"
   ]
  },
  {
   "cell_type": "markdown",
   "id": "73a5b333-7df0-4ebe-8586-a6427a405220",
   "metadata": {},
   "source": [
    "<b>parameters of groupby() method:</b><br>\n",
    "<b>DataFrame.groupby(by=None, axis=0, level=None, as_index=True, sort=True, group_keys=True, observed=False, dropna=True)</b><br>\n",
    "<p>Parameters :<br>\n",
    "<b>by:</b> Required parameter to specify the column(s) to group by.<br>\n",
    "<b>axis:</b> Optional, specifies the axis to group by (default is 0 for rows).<br>\n",
    "<b>level:</b> Optional, used for grouping by a certain level in a MultiIndex.<br>\n",
    "<b>as_index:</b> Optional, whether to use the group labels as the index (default is True).<br>\n",
    "<b>sort:</b> Optional, whether to sort the group keys (default is True).<br>\n",
    "<b>group_keys:</b> Optional, whether to add the group keys to the index (default is True).<br>\n",
    "<b>dropna:</b> Optional, whether to include rows/columns with NULL values (default is True).</p>"
   ]
  },
  {
   "cell_type": "markdown",
   "id": "c1d0398f-f147-40e9-aa8d-2320f2937801",
   "metadata": {},
   "source": [
    "<b>Example 1: Grouping by a Single Column:</b><br>"
   ]
  },
  {
   "cell_type": "code",
   "execution_count": 7,
   "id": "56a20bf0-f96e-475f-bcbb-b0a9c976e0ec",
   "metadata": {},
   "outputs": [
    {
     "name": "stdout",
     "output_type": "stream",
     "text": [
      "                                         Name  Number Position  ...  Weight                College      Salary\n",
      "Team                                                            ...                                           \n",
      "Atlanta Hawks                   Kent Bazemore    24.0       SF  ...   201.0           Old Dominion   2000000.0\n",
      "Boston Celtics                  Avery Bradley     0.0       PG  ...   180.0                  Texas   7730337.0\n",
      "Brooklyn Nets                Bojan Bogdanovic    44.0       SG  ...   216.0         Oklahoma State   3425510.0\n",
      "Charlotte Hornets               Nicolas Batum     5.0       SG  ...   200.0  Virginia Commonwealth  13125306.0\n",
      "Chicago Bulls                Cameron Bairstow    41.0       PF  ...   250.0             New Mexico    845059.0\n",
      "Cleveland Cavaliers       Matthew Dellavedova     8.0       PG  ...   198.0           Saint Mary's   1147276.0\n",
      "Dallas Mavericks              Justin Anderson     1.0       SG  ...   228.0               Virginia   1449000.0\n",
      "Denver Nuggets                 Darrell Arthur     0.0       PF  ...   235.0                 Kansas   2814000.0\n",
      "Detroit Pistons                  Joel Anthony    50.0        C  ...   245.0                   UNLV   2500000.0\n",
      "Golden State Warriors         Leandro Barbosa    19.0       SG  ...   194.0         North Carolina   2500000.0\n",
      "Houston Rockets                  Trevor Ariza     1.0       SF  ...   215.0                   UCLA   8193030.0\n",
      "Indiana Pacers                    Lavoy Allen     5.0       PF  ...   255.0                 Temple   4050000.0\n",
      "Los Angeles Clippers             Cole Aldrich    45.0        C  ...   250.0                 Kansas   1100602.0\n",
      "Los Angeles Lakers               Brandon Bass     2.0       PF  ...   250.0                    LSU   3000000.0\n",
      "Memphis Grizzlies                Jordan Adams     3.0       SG  ...   209.0                   UCLA   1404600.0\n",
      "Miami Heat                         Chris Bosh     1.0       PF  ...   235.0           Georgia Tech  22192730.0\n",
      "Milwaukee Bucks         Giannis Antetokounmpo    34.0       SF  ...   222.0                Arizona   1953960.0\n",
      "Minnesota Timberwolves        Nemanja Bjelica    88.0       PF  ...   240.0             Louisville   3950001.0\n",
      "New Orleans Pelicans            Alexis Ajinca    42.0        C  ...   248.0             California   4389607.0\n",
      "New York Knicks                 Arron Afflalo     4.0       SG  ...   210.0                   UCLA   8000000.0\n",
      "Oklahoma City Thunder            Steven Adams    12.0        C  ...   255.0             Pittsburgh   2279040.0\n",
      "Orlando Magic                  Dewayne Dedmon     3.0        C  ...   245.0                    USC    947276.0\n",
      "Philadelphia 76ers                Elton Brand    42.0       PF  ...   254.0                   Duke    947276.0\n",
      "Phoenix Suns                     Eric Bledsoe     2.0       PG  ...   190.0               Kentucky  13500000.0\n",
      "Portland Trail Blazers        Cliff Alexander    34.0       PF  ...   240.0                 Kansas    525093.0\n",
      "Sacramento Kings                   Quincy Acy    13.0       SF  ...   240.0                 Baylor    981348.0\n",
      "San Antonio Spurs           LaMarcus Aldridge    12.0       PF  ...   240.0                  Texas  19689000.0\n",
      "Toronto Raptors               Bismack Biyombo     8.0        C  ...   245.0               Missouri   2814000.0\n",
      "Utah Jazz                       Trevor Booker    33.0       PF  ...   228.0                Clemson   4775000.0\n",
      "Washington Wizards              Alan Anderson     6.0       SG  ...   220.0         Michigan State   4000000.0\n",
      "\n",
      "[30 rows x 8 columns]\n"
     ]
    }
   ],
   "source": [
    "import pandas as pd\n",
    "url = r\"C:\\Users\\ASHRAF\\OneDrive\\Desktop\\all_of_pandas\\nba.csv\"\n",
    "df = pd.read_csv(url)\n",
    "team = df.groupby(\"Team\")\n",
    "# print the first entries in all the groups formed.\n",
    "print(team.first())"
   ]
  },
  {
   "cell_type": "markdown",
   "id": "370bafdc-2afd-46c2-baf1-e8cf86a3086e",
   "metadata": {},
   "source": [
    "Can group by multiple column like\n",
    "<b>team = df.groupby([\"Team\",\"position\"])</b>"
   ]
  },
  {
   "cell_type": "markdown",
   "id": "32764930-8d5a-42ea-98ea-38f4d4f92cef",
   "metadata": {},
   "source": [
    "<b>Example 2 : Applying Aggregation with GroupBy:</b><br>\n",
    "apply functions like sum(), mean(), min(), max(), and more."
   ]
  },
  {
   "cell_type": "code",
   "execution_count": 8,
   "id": "549ffc40-af7c-4ab1-b910-a01d65788d90",
   "metadata": {},
   "outputs": [
    {
     "name": "stdout",
     "output_type": "stream",
     "text": [
      "                             total_salary    avg_salary  player_count\n",
      "Team               Position                                          \n",
      "Atlanta Hawks      C           22756250.0  7.585417e+06             3\n",
      "                   PF          23952268.0  5.988067e+06             4\n",
      "                   PG           9763400.0  4.881700e+06             2\n",
      "                   SF           6000000.0  3.000000e+06             2\n",
      "                   SG          10431032.0  2.607758e+06             4\n",
      "...                                   ...           ...           ...\n",
      "Washington Wizards C           24490429.0  8.163476e+06             3\n",
      "                   PF          11300000.0  5.650000e+06             2\n",
      "                   PG          18022415.0  9.011208e+06             2\n",
      "                   SF          11158800.0  2.789700e+06             4\n",
      "                   SG          11356992.0  2.839248e+06             4\n",
      "\n",
      "[149 rows x 3 columns]\n"
     ]
    }
   ],
   "source": [
    "import pandas as pd\n",
    "df2 = pd.read_csv(url)\n",
    "\n",
    "aggeration_data = df2.groupby([\"Team\",\"Position\"],).agg(\n",
    "    total_salary = (\"Salary\",\"sum\"),\n",
    "    avg_salary = (\"Salary\",\"mean\"),\n",
    "    player_count = (\"Name\",\"count\")\n",
    ")\n",
    "print(aggeration_data)"
   ]
  },
  {
   "cell_type": "markdown",
   "id": "0705059c-3a3d-4ebf-817f-900d78a54086",
   "metadata": {},
   "source": [
    "<b>Example 4: How to Apply Transformation Methods?:</b><br>\n",
    "Transformation functions return an object that is indexed the same as the original group.<br>\n",
    "<p><b>Purpose: Apply group-specific operations while maintaining the original shape of the dataset.</b><br>\n",
    "Unlike aggregation, which reduces data, transformations allow group-specific modifications without altering the shape of the data.</p>\n",
    "<b>For example:  Rank players within their teams based on their salaries: </b>"
   ]
  },
  {
   "cell_type": "code",
   "execution_count": 9,
   "id": "c5a36e64-6ae8-482a-a87a-84f12544c357",
   "metadata": {},
   "outputs": [
    {
     "name": "stdout",
     "output_type": "stream",
     "text": [
      "              Name            Team  Number Position  ...  Weight            College     Salary Rank within Team\n",
      "0    Avery Bradley  Boston Celtics     0.0       PG  ...   180.0              Texas  7730337.0              2.0\n",
      "1      Jae Crowder  Boston Celtics    99.0       SF  ...   235.0          Marquette  6796117.0              4.0\n",
      "2     John Holland  Boston Celtics    30.0       SG  ...   205.0  Boston University        NaN              NaN\n",
      "3      R.J. Hunter  Boston Celtics    28.0       SG  ...   185.0      Georgia State  1148640.0             14.0\n",
      "4    Jonas Jerebko  Boston Celtics     8.0       PF  ...   231.0                NaN  5000000.0              5.0\n",
      "..             ...             ...     ...      ...  ...     ...                ...        ...              ...\n",
      "453   Shelvin Mack       Utah Jazz     8.0       PG  ...   203.0             Butler  2433333.0              8.0\n",
      "454      Raul Neto       Utah Jazz    25.0       PG  ...   179.0                NaN   900000.0             15.0\n",
      "455   Tibor Pleiss       Utah Jazz    21.0        C  ...   256.0                NaN  2900000.0              6.0\n",
      "456    Jeff Withey       Utah Jazz    24.0        C  ...   231.0             Kansas   947276.0             14.0\n",
      "457            NaN             NaN     NaN      NaN  ...     NaN                NaN        NaN              NaN\n",
      "\n",
      "[458 rows x 10 columns]\n"
     ]
    }
   ],
   "source": [
    "import pandas as pd\n",
    "df3 = pd.read_csv(url)\n",
    "# Rank players within each team by Salary\n",
    "df3['Rank within Team'] = df3.groupby('Team')['Salary'].transform(lambda x: x.rank(ascending=False))\n",
    "print(df3)"
   ]
  },
  {
   "cell_type": "markdown",
   "id": "d88f7f91-90e9-4669-9381-67bdfaea1ff3",
   "metadata": {},
   "source": [
    "<b>Example 5 : Filtering Groups Using Filtration Methods:</b><br>\n",
    "<p><b>Filtration allows to drop entire groups from a GroupBy object based on a condition.</b><br>\n",
    "This method helps in cleaning data by removing groups that do not meet specific criteria, thus focusing analysis on relevant subsets</p>\n",
    "<b>example: filter out groups where the average salary of players is below a certain threshold.</b>"
   ]
  },
  {
   "cell_type": "code",
   "execution_count": 12,
   "id": "0adbad60-9ef7-49f5-b62c-aa96e2d3867c",
   "metadata": {},
   "outputs": [
    {
     "name": "stdout",
     "output_type": "stream",
     "text": [
      "                  Name                   Team  Number Position  ...  Height Weight         College      Salary\n",
      "76     Leandro Barbosa  Golden State Warriors    19.0       SG  ...     6-3  194.0             NaN   2500000.0\n",
      "77     Harrison Barnes  Golden State Warriors    40.0       SF  ...     6-8  225.0  North Carolina   3873398.0\n",
      "78        Andrew Bogut  Golden State Warriors    12.0        C  ...     7-0  260.0            Utah  13800000.0\n",
      "79           Ian Clark  Golden State Warriors    21.0       SG  ...     6-3  175.0         Belmont    947276.0\n",
      "80       Stephen Curry  Golden State Warriors    30.0       PG  ...     6-3  190.0        Davidson  11370786.0\n",
      "..                 ...                    ...     ...      ...  ...     ...    ...             ...         ...\n",
      "422      Cameron Payne  Oklahoma City Thunder    22.0       PG  ...     6-3  185.0    Murray State   2021520.0\n",
      "423     Andre Roberson  Oklahoma City Thunder    21.0       SG  ...     6-7  210.0        Colorado   1210800.0\n",
      "424       Kyle Singler  Oklahoma City Thunder     5.0       SF  ...     6-8  228.0            Duke   4500000.0\n",
      "425       Dion Waiters  Oklahoma City Thunder     3.0       SG  ...     6-4  220.0        Syracuse   5138430.0\n",
      "426  Russell Westbrook  Oklahoma City Thunder     0.0       PG  ...     6-3  200.0            UCLA  16744218.0\n",
      "\n",
      "[168 rows x 9 columns]\n"
     ]
    }
   ],
   "source": [
    "import pandas as pd \n",
    "df4 = pd.read_csv(url)\n",
    "\n",
    "# Filter groups where the average Salary is >= 5 million\n",
    "filtered_df = df4.groupby('Team').filter(lambda x: x['Salary'].mean() >= 5000000)\n",
    "print(filtered_df)"
   ]
  },
  {
   "cell_type": "code",
   "execution_count": null,
   "id": "15bf0bf3-2ecf-486c-bb67-78b2497cdff2",
   "metadata": {},
   "outputs": [],
   "source": []
  }
 ],
 "metadata": {
  "kernelspec": {
   "display_name": "Python 3 (ipykernel)",
   "language": "python",
   "name": "python3"
  },
  "language_info": {
   "codemirror_mode": {
    "name": "ipython",
    "version": 3
   },
   "file_extension": ".py",
   "mimetype": "text/x-python",
   "name": "python",
   "nbconvert_exporter": "python",
   "pygments_lexer": "ipython3",
   "version": "3.12.7"
  }
 },
 "nbformat": 4,
 "nbformat_minor": 5
}
