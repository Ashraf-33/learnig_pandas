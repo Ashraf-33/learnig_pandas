{
 "cells": [
  {
   "cell_type": "markdown",
   "id": "a8f00d47-b039-41db-adfd-4f7fd7cef090",
   "metadata": {},
   "source": [
    "# Panda Series\n",
    "It is an one-dimentional array.<br>\n",
    "That can hold many types of data such as int,float,str,ect."
   ]
  },
  {
   "cell_type": "code",
   "execution_count": null,
   "id": "2fdfcea7-1e00-4664-b927-37b274a25278",
   "metadata": {},
   "outputs": [],
   "source": [
    "import pandas as pd\n",
    "#creat empty series\n",
    "ser1 = pd.Series()\n",
    "print(ser1)"
   ]
  },
  {
   "cell_type": "code",
   "execution_count": null,
   "id": "00ec14fc-974e-4a42-9733-841ea495a5ef",
   "metadata": {},
   "outputs": [],
   "source": [
    "# we can convert any type datatype to series.\n",
    "# For example: np.array to series \n",
    "import numpy as np\n",
    "a = np.array([\"a\",\"b\",\"c\",\"d\"])\n",
    "ser2 = pd.Series(a)\n",
    "print(ser2)"
   ]
  },
  {
   "cell_type": "markdown",
   "id": "a8aa58c3-a5e8-45ac-8718-1d8f825f42d3",
   "metadata": {},
   "source": [
    "<b>Creating series using list comprehention</b>"
   ]
  },
  {
   "cell_type": "code",
   "execution_count": null,
   "id": "a58cd6a4-4185-410a-b6da-fe2e0f76347c",
   "metadata": {},
   "outputs": [],
   "source": [
    "series = pd.Series(range(1,20,5),index=[x for x in 'abcd'])\n",
    "print(series)"
   ]
  },
  {
   "cell_type": "markdown",
   "id": "306bdac2-89d8-4b00-bc24-8e0c3bfd7531",
   "metadata": {},
   "source": [
    "<b>Accessing elements from pd.Series</b><br>\n",
    "There are two method to accessing elements<br>\n",
    "1. Accessing with position.\n",
    "2. Accessing using label(index)."
   ]
  },
  {
   "cell_type": "markdown",
   "id": "825a5d3f-a301-4f93-92b6-438ddff06f63",
   "metadata": {},
   "source": [
    "<b>1.Accessing with position.</b>"
   ]
  },
  {
   "cell_type": "code",
   "execution_count": null,
   "id": "e40a4c93-7887-4da5-a796-c441afe476ae",
   "metadata": {},
   "outputs": [],
   "source": [
    "# accessing element with slice operation\n",
    "import pandas as pd\n",
    "import numpy as np\n",
    "#creat simple np array\n",
    "arr = np.array([\"a\",\"b\",\"c\",\"e\",\"r\",\"t\",\"y\",\"w\"])\n",
    "# creat series \n",
    "data = pd.Series(arr)\n",
    "#accessing first element.\n",
    "print(data[0])"
   ]
  },
  {
   "cell_type": "code",
   "execution_count": null,
   "id": "5ad30e1f-a34d-40ae-9aa9-4429b2e5430a",
   "metadata": {},
   "outputs": [],
   "source": [
    "#accessing 1st 5 element\n",
    "print(data[0:5:1])"
   ]
  },
  {
   "cell_type": "code",
   "execution_count": null,
   "id": "5adec9d1-5752-489c-a442-04e9d5d09d29",
   "metadata": {},
   "outputs": [],
   "source": [
    "print(len(data))"
   ]
  },
  {
   "cell_type": "code",
   "execution_count": null,
   "id": "2d3376fd-9559-4fae-aa15-664214d2d86a",
   "metadata": {},
   "outputs": [],
   "source": [
    "#accessing last 3 element.\n",
    "print(data[5:])"
   ]
  },
  {
   "cell_type": "markdown",
   "id": "88258b05-3122-4a8b-81d7-b7c3f337767d",
   "metadata": {},
   "source": [
    "I download a csv file<br>\n",
    "And access the first 10 name of the file"
   ]
  },
  {
   "cell_type": "code",
   "execution_count": null,
   "id": "c1a3c58a-3ca1-4595-adc0-5b692c01e134",
   "metadata": {},
   "outputs": [],
   "source": [
    "import pandas as pd\n",
    "# Making dataframe from csv file\n",
    "df = pd.read_csv(\"https://media.geeksforgeeks.org/wp-content/uploads/nba.csv\")\n",
    "\n",
    "ser = pd.Series(df[\"Name\"])\n",
    "ser.head(10)"
   ]
  },
  {
   "cell_type": "markdown",
   "id": "134df8bc-6dc3-4bca-b499-746ab2c35977",
   "metadata": {},
   "source": [
    "I will learn more about csv in future."
   ]
  },
  {
   "cell_type": "markdown",
   "id": "b98984e7-c0f0-454d-8934-23016b1ad0d8",
   "metadata": {},
   "source": [
    "<b>2. Accessing with label(index)</b>"
   ]
  },
  {
   "cell_type": "code",
   "execution_count": null,
   "id": "5539d350-c786-4674-9e22-ef3233f8fa3a",
   "metadata": {},
   "outputs": [],
   "source": [
    "import numpy as np\n",
    "import pandas as pd\n",
    "# creat np array\n",
    "dat = np.array(['g', 'e', 'e', 'k', 's', 'f','o', 'r', 'g', 'e', 'e', 'k','s'])\n",
    "#creat series with index\n",
    "ser = pd.Series(dat,index=[25,23,14,6,14,1,2,4,5,3,9,8,55])\n",
    "# accessing elements using index\n",
    "print(ser[23])"
   ]
  },
  {
   "cell_type": "code",
   "execution_count": null,
   "id": "894f75b2-ed5d-4d4c-b298-8fd9867a633a",
   "metadata": {},
   "outputs": [],
   "source": [
    "#Accessing multiple element\n",
    "print(ser[[25,6,14,8,55]])"
   ]
  },
  {
   "cell_type": "markdown",
   "id": "353e9d62-c9a5-4b65-8227-13a09ea651b6",
   "metadata": {},
   "source": [
    "Using arange() and access element by index"
   ]
  },
  {
   "cell_type": "code",
   "execution_count": null,
   "id": "0ac203b5-a009-40de-95a1-94445d4eca69",
   "metadata": {},
   "outputs": [],
   "source": [
    "import numpy as np\n",
    "import pandas as pd\n",
    "data = pd.Series(np.arange(3,10),index=[\"a\",\"b\",\"c\",\"d\",\"e\",\"f\",\"g\"])\n",
    "print(data[[\"b\",\"e\"]])"
   ]
  },
  {
   "cell_type": "markdown",
   "id": "e15b5232-56e4-4277-b50b-211647645dfe",
   "metadata": {},
   "source": [
    "Accessing by csv file"
   ]
  },
  {
   "cell_type": "code",
   "execution_count": null,
   "id": "da363a78-b8d0-4d0f-aed5-2e1a4acac5ca",
   "metadata": {},
   "outputs": [],
   "source": [
    "df2 = pd.read_csv(\"https://media.geeksforgeeks.org/wp-content/uploads/nba.csv\")\n",
    "ser2 = pd.Series(df2[\"Name\"])\n",
    "#show first 10 name\n",
    "ser2.head(10)"
   ]
  },
  {
   "cell_type": "code",
   "execution_count": null,
   "id": "536434f8-7011-4d13-a816-1ef31b374beb",
   "metadata": {},
   "outputs": [],
   "source": [
    "#access index 0,5,6,7\n",
    "print(ser2[[0,5,6,7]])"
   ]
  },
  {
   "cell_type": "markdown",
   "id": "56494ae6-11e9-4482-ad86-71281b53011e",
   "metadata": {},
   "source": [
    "# Binary operations on DataFrame and Series\n",
    "common operations are :\n",
    "1. Arithmetic operation\n",
    "2. Comparison operation\n",
    "3. Logical operation"
   ]
  },
  {
   "cell_type": "markdown",
   "id": "693ec27e-bb6c-42b2-82fb-c4c612d9be33",
   "metadata": {},
   "source": [
    "<b>1. Arithmetic operation</b>"
   ]
  },
  {
   "cell_type": "code",
   "execution_count": null,
   "id": "da6cc239-7aa8-4c97-9447-83d3e245edfb",
   "metadata": {},
   "outputs": [],
   "source": [
    "# on series\n",
    "import pandas as pd\n",
    "s1 = pd.Series([1,2,3,4],index=[\"a\",\"b\",\"c\",\"d\"])\n",
    "s2 = pd.Series([5,6,7,8],index=[\"a\",\"b\",\"c\",\"d\"])\n",
    "# adding s1 and s2\n",
    "result = s1+s2\n",
    "print(result)\n",
    "\n",
    "# subtraction\n",
    "print(\"Sub is :\",s2-s1)"
   ]
  },
  {
   "cell_type": "code",
   "execution_count": null,
   "id": "9b1cf49c-2b2c-4f57-8ead-8e745a66c71c",
   "metadata": {},
   "outputs": [],
   "source": [
    "# on DataFrame\n",
    "import pandas as pd\n",
    "df1 = pd.DataFrame({\"A\":[1,2,3],\"B\":[4,5,6]})\n",
    "df2 = pd.DataFrame({\"A\":[7,8,9],\"B\":[10,11,12]})\n",
    "# multiplication\n",
    "res = df1*df2\n",
    "print(res)"
   ]
  },
  {
   "cell_type": "markdown",
   "id": "0855898b-aedd-415c-8e50-52fb01ad6bcb",
   "metadata": {},
   "source": [
    "<b>2.Comparison operation</b>"
   ]
  },
  {
   "cell_type": "code",
   "execution_count": null,
   "id": "bcb994b3-16dc-4ad2-8822-bc8e6b409dd4",
   "metadata": {},
   "outputs": [],
   "source": [
    "# on Series cheack greater than \n",
    "t1 = pd.Series([6,7,9])\n",
    "t2 = pd.Series([10,5,1])\n",
    "#Check t1>t2\n",
    "com = t1>t2\n",
    "print(com)"
   ]
  },
  {
   "cell_type": "code",
   "execution_count": null,
   "id": "e0788de0-2156-40bf-8938-cd572876017f",
   "metadata": {},
   "outputs": [],
   "source": [
    "# DataFrame\n",
    "d_f1 = pd.DataFrame({\"A\":[1,2,3],\"B\":[4,5,6]})\n",
    "d_f2 = pd.DataFrame({\"A\":[3,2,1],\"B\":[4,5,6]})\n",
    "# find are they same\n",
    "print(d_f1== d_f2)"
   ]
  },
  {
   "cell_type": "markdown",
   "id": "970ed647-c427-42f8-bdb9-112c163d8e0f",
   "metadata": {},
   "source": [
    "<b>3.Logical operation</b>"
   ]
  },
  {
   "cell_type": "code",
   "execution_count": null,
   "id": "42c1f138-d922-4323-aee3-1456e38ae835",
   "metadata": {},
   "outputs": [],
   "source": [
    "#Series\n",
    "# using and logic\n",
    "answer = t1 & t2\n",
    "print(answer)"
   ]
  },
  {
   "cell_type": "markdown",
   "id": "9e1268db-9a1f-48d2-a5a6-3cf05f72e7fd",
   "metadata": {},
   "source": [
    "<b>Handling Missing operator</b>"
   ]
  },
  {
   "cell_type": "code",
   "execution_count": null,
   "id": "2ee33472-5497-4ab8-be67-3a7370cccabb",
   "metadata": {},
   "outputs": [],
   "source": [
    "import pandas as pd\n",
    "test1 = pd.DataFrame({'a':[1,2,None],'b':[2,None,1]})\n",
    "test2 = pd.DataFrame({'a':[5,6,3],'b':[None,3,4]})\n",
    "print(test1+test2)"
   ]
  },
  {
   "cell_type": "markdown",
   "id": "0af78b01-9a26-48df-8276-b9143be3bcc8",
   "metadata": {},
   "source": [
    "# Series index attribute\n",
    "Syntax<br>\n",
    "<b>Series.index </b> # Access index labels<br>\n",
    "\n",
    "<b>Series.index = new_index </b> # Modify index labels<br>\n",
    "\n",
    "Parameter: This method does not take any parameter.<br>\n",
    "\n",
    "Returns: Index labels of the Series.<br>\n",
    "\n",
    "Functionality:<br>\n",
    "\n",
    "Retrieves the current index labels of the Series.<br>\n",
    "Can be used to set new index labels.<br>\n",
    "Supports both unique and duplicate index labels.<br>\n",
    "Useful for locating elements efficiently within a Series.<br>"
   ]
  },
  {
   "cell_type": "code",
   "execution_count": null,
   "id": "cc7f6589-6197-4841-8165-c421301a6f27",
   "metadata": {},
   "outputs": [],
   "source": [
    "# example of this\n",
    "import pandas as pd\n",
    "data = pd.Series([10,20,30,40,50],index=[\"a\",\"b\",\"c\",\"d\",\"e\"])\n",
    "#access index\n",
    "print(\"Old index\\n\",data.index)\n",
    "#modify index\n",
    "data.index = [0,1,2,3,4]\n",
    "#accesss new index\n",
    "print(\"new index\\n\",data.index)"
   ]
  },
  {
   "cell_type": "code",
   "execution_count": null,
   "id": "e78fc8e1-1cfe-499f-b630-2025a0b1b814",
   "metadata": {},
   "outputs": [],
   "source": [
    "# Retrieving index labels\n",
    "import pandas as pd\n",
    "Date = ['1/2/2025','2/2/2025','3/2/2025']\n",
    "index_name = ['Day1','Day2','Day3']\n",
    "sr = pd.Series(data=Date,index=index_name)\n",
    "print(sr.index)"
   ]
  },
  {
   "cell_type": "code",
   "execution_count": null,
   "id": "0cebae2b-4ffd-4840-930c-6682aca9a7f1",
   "metadata": {},
   "outputs": [],
   "source": [
    "# resetting index to default\n",
    "sr.reset_index(drop=True,inplace=True)\n",
    "print(sr.index)\n",
    "print(sr)"
   ]
  },
  {
   "cell_type": "markdown",
   "id": "e1a9019d-fe43-4c4c-ae7d-585fb1863cb8",
   "metadata": {},
   "source": [
    "# np.array to series"
   ]
  },
  {
   "cell_type": "code",
   "execution_count": null,
   "id": "7622cc95-35f2-447b-ba0d-1c87d288cdb8",
   "metadata": {},
   "outputs": [],
   "source": [
    "# without custom index\n",
    "import numpy as np\n",
    "import pandas as pd\n",
    "value = np.array(['a','b','c','d','e'])\n",
    "val_ser = pd.Series(value)\n",
    "print(val_ser)"
   ]
  },
  {
   "cell_type": "code",
   "execution_count": null,
   "id": "4acc3274-f73b-439f-8e04-efd7753a7822",
   "metadata": {},
   "outputs": [],
   "source": [
    "# custom index\n",
    "dat = np.array([\"A\",\"B\",\"C\",\"D\"])\n",
    "new = pd.Series(dat,index=['a','b','c','d'])\n",
    "print(new)"
   ]
  },
  {
   "cell_type": "code",
   "execution_count": null,
   "id": "bffb75a9-6ce2-4d92-bd79-6c06a0f55c8e",
   "metadata": {},
   "outputs": [],
   "source": []
  }
 ],
 "metadata": {
  "kernelspec": {
   "display_name": "Python 3 (ipykernel)",
   "language": "python",
   "name": "python3"
  },
  "language_info": {
   "codemirror_mode": {
    "name": "ipython",
    "version": 3
   },
   "file_extension": ".py",
   "mimetype": "text/x-python",
   "name": "python",
   "nbconvert_exporter": "python",
   "pygments_lexer": "ipython3",
   "version": "3.12.7"
  }
 },
 "nbformat": 4,
 "nbformat_minor": 5
}
