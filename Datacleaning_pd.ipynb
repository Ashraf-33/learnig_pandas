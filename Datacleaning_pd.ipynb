{
 "cells": [
  {
   "cell_type": "markdown",
   "id": "f98c9ffa-5b84-43f9-a215-8ec646470399",
   "metadata": {},
   "source": [
    "# 1. Working with missing data:\n",
    "In pandas, when some values are missing or not collected properly,<br> \n",
    "these values are represented by<br>\n",
    "<b>* None:</b> A Python object used to represent missing values in object-type arrays.<br>\n",
    "<b>* NaN:</b> A special floating-point value from NumPy which is recognized by all systems that use IEEE floating-point standards.<br>\n",
    "<h2>some functions for checking missing values in pandas:</h2>\n",
    "<h1>1. Using isnull():</h1>\n",
    "isnull() returns a DataFrame of Boolean value where True represents missing data (NaN)."
   ]
  },
  {
   "cell_type": "code",
   "execution_count": 1,
   "id": "9c795485-9bd2-47cf-9607-8112b04c41a1",
   "metadata": {},
   "outputs": [
    {
     "name": "stdout",
     "output_type": "stream",
     "text": [
      "   First_score  Second\n",
      "0        100.0     NaN\n",
      "1         88.0    44.0\n",
      "2          NaN     NaN\n",
      "3         50.0    49.0\n",
      "   First_score  Second\n",
      "0        False    True\n",
      "1        False   False\n",
      "2         True    True\n",
      "3        False   False\n"
     ]
    }
   ],
   "source": [
    "#identify missing values use isnull() func\n",
    "# creat df \n",
    "import pandas as pd\n",
    "import numpy as np\n",
    "df = pd.DataFrame({\"First_score\":[100,88,np.nan,50],\n",
    "                  \"Second\":[np.nan,44,np.nan,49]})\n",
    "print(df)\n",
    "#check isnull()\n",
    "print(df.isnull())"
   ]
  },
  {
   "cell_type": "code",
   "execution_count": 2,
   "id": "3e3bfed3-7bbb-44ed-a8d1-a213e7829952",
   "metadata": {},
   "outputs": [
    {
     "name": "stdout",
     "output_type": "stream",
     "text": [
      "    First Name Gender  Start Date Last Login Time  Salary  Bonus %  \\\n",
      "20        Lois    NaN   4/22/1995         7:18 PM   64714    4.934   \n",
      "22      Joshua    NaN    3/8/2012         1:58 AM   90816   18.816   \n",
      "27       Scott    NaN   7/11/1991         6:58 PM  122367    5.218   \n",
      "31       Joyce    NaN   2/20/2005         2:40 PM   88657   12.752   \n",
      "41   Christine    NaN   6/28/2015         1:08 AM   66582   11.308   \n",
      "..         ...    ...         ...             ...     ...      ...   \n",
      "961    Antonio    NaN   6/18/1989         9:37 PM  103050    3.050   \n",
      "972     Victor    NaN   7/28/2006         2:49 PM   76381   11.159   \n",
      "985    Stephen    NaN   7/10/1983         8:10 PM   85668    1.909   \n",
      "989     Justin    NaN   2/10/1991         4:58 PM   38344    3.794   \n",
      "995      Henry    NaN  11/23/2014         6:09 AM  132483   16.655   \n",
      "\n",
      "    Senior Management                  Team  \n",
      "20               True                 Legal  \n",
      "22               True       Client Services  \n",
      "27              False                 Legal  \n",
      "31              False               Product  \n",
      "41               True  Business Development  \n",
      "..                ...                   ...  \n",
      "961             False                 Legal  \n",
      "972              True                 Sales  \n",
      "985             False                 Legal  \n",
      "989             False                 Legal  \n",
      "995             False          Distribution  \n",
      "\n",
      "[145 rows x 8 columns]\n"
     ]
    }
   ],
   "source": [
    "#example 2\n",
    "# filternig missing values using on a csv file\n",
    "import pandas as pd\n",
    "file = pd.read_csv(r\"C:\\Users\\ASHRAF\\OneDrive\\Desktop\\all_of_pandas\\employees.csv\")\n",
    "# in this file some of the gender values are missing find those things.\n",
    "boolean_value = pd.isnull(file[\"Gender\"])\n",
    "missing_gender=file[boolean_value]\n",
    "print(missing_gender)"
   ]
  },
  {
   "cell_type": "markdown",
   "id": "fe089954-5123-49be-90c1-9a93aef43723",
   "metadata": {},
   "source": [
    "<h1>2. Checking for Non-Missing Values Using notnull():</h1>\n",
    "notnull() function returns a DataFrame with Boolean values where True indicates non-missing (valid) data.<br>\n",
    "This function is useful when we want to focus only on the rows that have valid, non-missing values."
   ]
  },
  {
   "cell_type": "code",
   "execution_count": 3,
   "id": "c4734697-5f53-4616-b548-9118c6611479",
   "metadata": {},
   "outputs": [
    {
     "name": "stdout",
     "output_type": "stream",
     "text": [
      "   First_score  Second\n",
      "0         True   False\n",
      "1         True    True\n",
      "2        False   False\n",
      "3         True    True\n"
     ]
    }
   ],
   "source": [
    "# example1:\n",
    "#identify non_missing values\n",
    "import pandas as pd\n",
    "data = pd.DataFrame({\"First_score\":[100,88,np.nan,50],\n",
    "                  \"Second\":[np.nan,44,np.nan,49]})\n",
    "#identify \n",
    "print(data.notnull())"
   ]
  },
  {
   "cell_type": "code",
   "execution_count": 4,
   "id": "f3085941-48f1-4772-81f2-0ba207e77e6e",
   "metadata": {},
   "outputs": [
    {
     "name": "stdout",
     "output_type": "stream",
     "text": [
      "    First Name  Gender Start Date Last Login Time  Salary  Bonus %  \\\n",
      "0      Douglas    Male   8/6/1993        12:42 PM   97308    6.945   \n",
      "1       Thomas    Male  3/31/1996         6:53 AM   61933    4.170   \n",
      "2        Maria  Female  4/23/1993        11:17 AM  130590   11.858   \n",
      "3        Jerry    Male   3/4/2005         1:00 PM  138705    9.340   \n",
      "4        Larry    Male  1/24/1998         4:47 PM  101004    1.389   \n",
      "..         ...     ...        ...             ...     ...      ...   \n",
      "994     George    Male  6/21/2013         5:47 PM   98874    4.479   \n",
      "996    Phillip    Male  1/31/1984         6:30 AM   42392   19.675   \n",
      "997    Russell    Male  5/20/2013        12:39 PM   96914    1.421   \n",
      "998      Larry    Male  4/20/2013         4:45 PM   60500   11.985   \n",
      "999     Albert    Male  5/15/2012         6:24 PM  129949   10.169   \n",
      "\n",
      "    Senior Management                  Team  \n",
      "0                True             Marketing  \n",
      "1                True                   NaN  \n",
      "2               False               Finance  \n",
      "3                True               Finance  \n",
      "4                True       Client Services  \n",
      "..                ...                   ...  \n",
      "994              True             Marketing  \n",
      "996             False               Finance  \n",
      "997             False               Product  \n",
      "998             False  Business Development  \n",
      "999              True                 Sales  \n",
      "\n",
      "[855 rows x 8 columns]\n"
     ]
    }
   ],
   "source": [
    "# example2:\n",
    "#filtering non_missing values\n",
    "import pandas as pd\n",
    "url = r\"C:\\Users\\ASHRAF\\OneDrive\\Desktop\\all_of_pandas\\employees.csv\"\n",
    "data_csv = pd.read_csv(url)\n",
    "# show only non_missing values of gender\n",
    "n_m_g = pd.notnull(data_csv[\"Gender\"])\n",
    "n_m_g_d = data_csv[n_m_g]\n",
    "print(n_m_g_d)"
   ]
  },
  {
   "cell_type": "markdown",
   "id": "dcf440e9-d4e7-4e4a-844c-febc779fcbe1",
   "metadata": {},
   "source": [
    "# 2.Filling Missing Values in Pandas:\n",
    "Following functions allow us to replace missing values with a specified value or use interpolation methods to find the missing data.<br>\n",
    "<h1>1. using fillna()</h1>\n",
    "<b>fillna()</b> used to replace missing values (NaN) with a given value."
   ]
  },
  {
   "cell_type": "code",
   "execution_count": 5,
   "id": "074d3a5d-3d43-4654-bfbe-143c67e35585",
   "metadata": {},
   "outputs": [
    {
     "name": "stdout",
     "output_type": "stream",
     "text": [
      "   First_score  Second\n",
      "0        100.0     0.0\n",
      "1         88.0    44.0\n",
      "2          0.0     0.0\n",
      "3         50.0    49.0\n"
     ]
    }
   ],
   "source": [
    "#Example 1: Fill Missing Values with Zero:\n",
    "import pandas as pd\n",
    "import numpy as np\n",
    "df = pd.DataFrame({\"First_score\":[100,88,np.nan,50],\n",
    "                  \"Second\":[np.nan,44,np.nan,49]})\n",
    "print(df.fillna(0))"
   ]
  },
  {
   "cell_type": "code",
   "execution_count": 6,
   "id": "81f44c66-9ac6-424b-b076-7868cb7677aa",
   "metadata": {},
   "outputs": [
    {
     "data": {
      "text/html": [
       "<div>\n",
       "<style scoped>\n",
       "    .dataframe tbody tr th:only-of-type {\n",
       "        vertical-align: middle;\n",
       "    }\n",
       "\n",
       "    .dataframe tbody tr th {\n",
       "        vertical-align: top;\n",
       "    }\n",
       "\n",
       "    .dataframe thead th {\n",
       "        text-align: right;\n",
       "    }\n",
       "</style>\n",
       "<table border=\"1\" class=\"dataframe\">\n",
       "  <thead>\n",
       "    <tr style=\"text-align: right;\">\n",
       "      <th></th>\n",
       "      <th>First_score</th>\n",
       "      <th>Second</th>\n",
       "    </tr>\n",
       "  </thead>\n",
       "  <tbody>\n",
       "    <tr>\n",
       "      <th>0</th>\n",
       "      <td>100.0</td>\n",
       "      <td>NaN</td>\n",
       "    </tr>\n",
       "    <tr>\n",
       "      <th>1</th>\n",
       "      <td>88.0</td>\n",
       "      <td>44.0</td>\n",
       "    </tr>\n",
       "    <tr>\n",
       "      <th>2</th>\n",
       "      <td>88.0</td>\n",
       "      <td>44.0</td>\n",
       "    </tr>\n",
       "    <tr>\n",
       "      <th>3</th>\n",
       "      <td>50.0</td>\n",
       "      <td>49.0</td>\n",
       "    </tr>\n",
       "  </tbody>\n",
       "</table>\n",
       "</div>"
      ],
      "text/plain": [
       "   First_score  Second\n",
       "0        100.0     NaN\n",
       "1         88.0    44.0\n",
       "2         88.0    44.0\n",
       "3         50.0    49.0"
      ]
     },
     "execution_count": 6,
     "metadata": {},
     "output_type": "execute_result"
    }
   ],
   "source": [
    "#Example 2: Forward fill\n",
    "#The pad method is used to fill missing values with the previous value.\n",
    "df.ffill()"
   ]
  },
  {
   "cell_type": "code",
   "execution_count": 7,
   "id": "02168234-1c6b-4e40-82a3-084bca458db6",
   "metadata": {},
   "outputs": [
    {
     "data": {
      "text/html": [
       "<div>\n",
       "<style scoped>\n",
       "    .dataframe tbody tr th:only-of-type {\n",
       "        vertical-align: middle;\n",
       "    }\n",
       "\n",
       "    .dataframe tbody tr th {\n",
       "        vertical-align: top;\n",
       "    }\n",
       "\n",
       "    .dataframe thead th {\n",
       "        text-align: right;\n",
       "    }\n",
       "</style>\n",
       "<table border=\"1\" class=\"dataframe\">\n",
       "  <thead>\n",
       "    <tr style=\"text-align: right;\">\n",
       "      <th></th>\n",
       "      <th>First_score</th>\n",
       "      <th>Second</th>\n",
       "    </tr>\n",
       "  </thead>\n",
       "  <tbody>\n",
       "    <tr>\n",
       "      <th>0</th>\n",
       "      <td>100.0</td>\n",
       "      <td>44.0</td>\n",
       "    </tr>\n",
       "    <tr>\n",
       "      <th>1</th>\n",
       "      <td>88.0</td>\n",
       "      <td>44.0</td>\n",
       "    </tr>\n",
       "    <tr>\n",
       "      <th>2</th>\n",
       "      <td>50.0</td>\n",
       "      <td>49.0</td>\n",
       "    </tr>\n",
       "    <tr>\n",
       "      <th>3</th>\n",
       "      <td>50.0</td>\n",
       "      <td>49.0</td>\n",
       "    </tr>\n",
       "  </tbody>\n",
       "</table>\n",
       "</div>"
      ],
      "text/plain": [
       "   First_score  Second\n",
       "0        100.0    44.0\n",
       "1         88.0    44.0\n",
       "2         50.0    49.0\n",
       "3         50.0    49.0"
      ]
     },
     "execution_count": 7,
     "metadata": {},
     "output_type": "execute_result"
    }
   ],
   "source": [
    "#Example 3: Fill with Next Value (Backward Fill)\n",
    "#The bfill function is used to fill it with the next value.\n",
    "df.bfill()"
   ]
  },
  {
   "cell_type": "code",
   "execution_count": 8,
   "id": "51a59da0-71d3-4059-a18c-8685e5ecc248",
   "metadata": {},
   "outputs": [
    {
     "name": "stdout",
     "output_type": "stream",
     "text": [
      "   First Name     Gender  Start Date Last Login Time  Salary  Bonus %  \\\n",
      "10     Louise     Female   8/12/1980         9:01 AM   63241   15.132   \n",
      "11      Julie     Female  10/26/1997         3:19 PM  102508   12.637   \n",
      "12    Brandon       Male   12/1/1980         1:08 AM  112807   17.492   \n",
      "13       Gary       Male   1/27/2008        11:40 PM  109831    5.831   \n",
      "14   Kimberly     Female   1/14/1999         7:13 AM   41426   14.543   \n",
      "15    Lillian     Female    6/5/2016         6:09 AM   59414    1.256   \n",
      "16     Jeremy       Male   9/21/2010         5:56 AM   90370    7.369   \n",
      "17      Shawn       Male   12/7/1986         7:45 PM  111737    6.414   \n",
      "18      Diana     Female  10/23/1981        10:27 AM  132940   19.082   \n",
      "19      Donna     Female   7/22/2010         3:48 AM   81014    1.894   \n",
      "20       Lois  No_gender   4/22/1995         7:18 PM   64714    4.934   \n",
      "21    Matthew       Male    9/5/1995         2:12 AM  100612   13.645   \n",
      "22     Joshua  No_gender    3/8/2012         1:58 AM   90816   18.816   \n",
      "23        NaN       Male   6/14/2012         4:19 PM  125792    5.042   \n",
      "24       John       Male    7/1/1992        10:08 PM   97950   13.873   \n",
      "\n",
      "   Senior Management             Team  \n",
      "10              True              NaN  \n",
      "11              True            Legal  \n",
      "12              True  Human Resources  \n",
      "13             False            Sales  \n",
      "14              True          Finance  \n",
      "15             False          Product  \n",
      "16             False  Human Resources  \n",
      "17             False          Product  \n",
      "18             False  Client Services  \n",
      "19             False          Product  \n",
      "20              True            Legal  \n",
      "21             False        Marketing  \n",
      "22              True  Client Services  \n",
      "23               NaN              NaN  \n",
      "24             False  Client Services  \n"
     ]
    }
   ],
   "source": [
    "#Example 4: Fill NaN Values with 'No Gender'\n",
    "import pandas as pd\n",
    "import numpy as np\n",
    "d = pd.read_csv(url)\n",
    "#Now we are going to fill all the null values in Gender column with \"No Gender\".\n",
    "d.fillna({\"Gender\":\"No_gender\"},inplace=True)\n",
    "print(d[10:25])"
   ]
  },
  {
   "cell_type": "markdown",
   "id": "40e8b633-47eb-451b-a904-eea7f2279125",
   "metadata": {},
   "source": [
    "<h1>2. Using replace():</h1>\n",
    "Use <b>replace()</b> function to replace NaN values with a specific value."
   ]
  },
  {
   "cell_type": "code",
   "execution_count": 9,
   "id": "adf9d7d4-3dc7-437d-bb88-2398b00a0ae5",
   "metadata": {},
   "outputs": [
    {
     "name": "stdout",
     "output_type": "stream",
     "text": [
      "   First Name  Gender  Start Date Last Login Time  Salary  Bonus %  \\\n",
      "10     Louise  Female   8/12/1980         9:01 AM   63241   15.132   \n",
      "11      Julie  Female  10/26/1997         3:19 PM  102508   12.637   \n",
      "12    Brandon    Male   12/1/1980         1:08 AM  112807   17.492   \n",
      "13       Gary    Male   1/27/2008        11:40 PM  109831    5.831   \n",
      "14   Kimberly  Female   1/14/1999         7:13 AM   41426   14.543   \n",
      "15    Lillian  Female    6/5/2016         6:09 AM   59414    1.256   \n",
      "16     Jeremy    Male   9/21/2010         5:56 AM   90370    7.369   \n",
      "17      Shawn    Male   12/7/1986         7:45 PM  111737    6.414   \n",
      "18      Diana  Female  10/23/1981        10:27 AM  132940   19.082   \n",
      "19      Donna  Female   7/22/2010         3:48 AM   81014    1.894   \n",
      "20       Lois     NaN   4/22/1995         7:18 PM   64714    4.934   \n",
      "21    Matthew    Male    9/5/1995         2:12 AM  100612   13.645   \n",
      "22     Joshua     NaN    3/8/2012         1:58 AM   90816   18.816   \n",
      "23        NaN    Male   6/14/2012         4:19 PM  125792    5.042   \n",
      "24       John    Male    7/1/1992        10:08 PM   97950   13.873   \n",
      "\n",
      "   Senior Management             Team  \n",
      "10              True              NaN  \n",
      "11              True            Legal  \n",
      "12              True  Human Resources  \n",
      "13             False            Sales  \n",
      "14              True          Finance  \n",
      "15             False          Product  \n",
      "16             False  Human Resources  \n",
      "17             False          Product  \n",
      "18             False  Client Services  \n",
      "19             False          Product  \n",
      "20              True            Legal  \n",
      "21             False        Marketing  \n",
      "22              True  Client Services  \n",
      "23               NaN              NaN  \n",
      "24             False  Client Services  \n"
     ]
    },
    {
     "data": {
      "text/html": [
       "<div>\n",
       "<style scoped>\n",
       "    .dataframe tbody tr th:only-of-type {\n",
       "        vertical-align: middle;\n",
       "    }\n",
       "\n",
       "    .dataframe tbody tr th {\n",
       "        vertical-align: top;\n",
       "    }\n",
       "\n",
       "    .dataframe thead th {\n",
       "        text-align: right;\n",
       "    }\n",
       "</style>\n",
       "<table border=\"1\" class=\"dataframe\">\n",
       "  <thead>\n",
       "    <tr style=\"text-align: right;\">\n",
       "      <th></th>\n",
       "      <th>First Name</th>\n",
       "      <th>Gender</th>\n",
       "      <th>Start Date</th>\n",
       "      <th>Last Login Time</th>\n",
       "      <th>Salary</th>\n",
       "      <th>Bonus %</th>\n",
       "      <th>Senior Management</th>\n",
       "      <th>Team</th>\n",
       "    </tr>\n",
       "  </thead>\n",
       "  <tbody>\n",
       "    <tr>\n",
       "      <th>0</th>\n",
       "      <td>Douglas</td>\n",
       "      <td>Male</td>\n",
       "      <td>8/6/1993</td>\n",
       "      <td>12:42 PM</td>\n",
       "      <td>97308</td>\n",
       "      <td>6.945</td>\n",
       "      <td>True</td>\n",
       "      <td>Marketing</td>\n",
       "    </tr>\n",
       "    <tr>\n",
       "      <th>1</th>\n",
       "      <td>Thomas</td>\n",
       "      <td>Male</td>\n",
       "      <td>3/31/1996</td>\n",
       "      <td>6:53 AM</td>\n",
       "      <td>61933</td>\n",
       "      <td>4.170</td>\n",
       "      <td>True</td>\n",
       "      <td>0.0</td>\n",
       "    </tr>\n",
       "    <tr>\n",
       "      <th>2</th>\n",
       "      <td>Maria</td>\n",
       "      <td>Female</td>\n",
       "      <td>4/23/1993</td>\n",
       "      <td>11:17 AM</td>\n",
       "      <td>130590</td>\n",
       "      <td>11.858</td>\n",
       "      <td>False</td>\n",
       "      <td>Finance</td>\n",
       "    </tr>\n",
       "    <tr>\n",
       "      <th>3</th>\n",
       "      <td>Jerry</td>\n",
       "      <td>Male</td>\n",
       "      <td>3/4/2005</td>\n",
       "      <td>1:00 PM</td>\n",
       "      <td>138705</td>\n",
       "      <td>9.340</td>\n",
       "      <td>True</td>\n",
       "      <td>Finance</td>\n",
       "    </tr>\n",
       "    <tr>\n",
       "      <th>4</th>\n",
       "      <td>Larry</td>\n",
       "      <td>Male</td>\n",
       "      <td>1/24/1998</td>\n",
       "      <td>4:47 PM</td>\n",
       "      <td>101004</td>\n",
       "      <td>1.389</td>\n",
       "      <td>True</td>\n",
       "      <td>Client Services</td>\n",
       "    </tr>\n",
       "    <tr>\n",
       "      <th>...</th>\n",
       "      <td>...</td>\n",
       "      <td>...</td>\n",
       "      <td>...</td>\n",
       "      <td>...</td>\n",
       "      <td>...</td>\n",
       "      <td>...</td>\n",
       "      <td>...</td>\n",
       "      <td>...</td>\n",
       "    </tr>\n",
       "    <tr>\n",
       "      <th>995</th>\n",
       "      <td>Henry</td>\n",
       "      <td>0.0</td>\n",
       "      <td>11/23/2014</td>\n",
       "      <td>6:09 AM</td>\n",
       "      <td>132483</td>\n",
       "      <td>16.655</td>\n",
       "      <td>False</td>\n",
       "      <td>Distribution</td>\n",
       "    </tr>\n",
       "    <tr>\n",
       "      <th>996</th>\n",
       "      <td>Phillip</td>\n",
       "      <td>Male</td>\n",
       "      <td>1/31/1984</td>\n",
       "      <td>6:30 AM</td>\n",
       "      <td>42392</td>\n",
       "      <td>19.675</td>\n",
       "      <td>False</td>\n",
       "      <td>Finance</td>\n",
       "    </tr>\n",
       "    <tr>\n",
       "      <th>997</th>\n",
       "      <td>Russell</td>\n",
       "      <td>Male</td>\n",
       "      <td>5/20/2013</td>\n",
       "      <td>12:39 PM</td>\n",
       "      <td>96914</td>\n",
       "      <td>1.421</td>\n",
       "      <td>False</td>\n",
       "      <td>Product</td>\n",
       "    </tr>\n",
       "    <tr>\n",
       "      <th>998</th>\n",
       "      <td>Larry</td>\n",
       "      <td>Male</td>\n",
       "      <td>4/20/2013</td>\n",
       "      <td>4:45 PM</td>\n",
       "      <td>60500</td>\n",
       "      <td>11.985</td>\n",
       "      <td>False</td>\n",
       "      <td>Business Development</td>\n",
       "    </tr>\n",
       "    <tr>\n",
       "      <th>999</th>\n",
       "      <td>Albert</td>\n",
       "      <td>Male</td>\n",
       "      <td>5/15/2012</td>\n",
       "      <td>6:24 PM</td>\n",
       "      <td>129949</td>\n",
       "      <td>10.169</td>\n",
       "      <td>True</td>\n",
       "      <td>Sales</td>\n",
       "    </tr>\n",
       "  </tbody>\n",
       "</table>\n",
       "<p>1000 rows × 8 columns</p>\n",
       "</div>"
      ],
      "text/plain": [
       "    First Name  Gender  Start Date Last Login Time  Salary  Bonus %  \\\n",
       "0      Douglas    Male    8/6/1993        12:42 PM   97308    6.945   \n",
       "1       Thomas    Male   3/31/1996         6:53 AM   61933    4.170   \n",
       "2        Maria  Female   4/23/1993        11:17 AM  130590   11.858   \n",
       "3        Jerry    Male    3/4/2005         1:00 PM  138705    9.340   \n",
       "4        Larry    Male   1/24/1998         4:47 PM  101004    1.389   \n",
       "..         ...     ...         ...             ...     ...      ...   \n",
       "995      Henry     0.0  11/23/2014         6:09 AM  132483   16.655   \n",
       "996    Phillip    Male   1/31/1984         6:30 AM   42392   19.675   \n",
       "997    Russell    Male   5/20/2013        12:39 PM   96914    1.421   \n",
       "998      Larry    Male   4/20/2013         4:45 PM   60500   11.985   \n",
       "999     Albert    Male   5/15/2012         6:24 PM  129949   10.169   \n",
       "\n",
       "    Senior Management                  Team  \n",
       "0                True             Marketing  \n",
       "1                True                   0.0  \n",
       "2               False               Finance  \n",
       "3                True               Finance  \n",
       "4                True       Client Services  \n",
       "..                ...                   ...  \n",
       "995             False          Distribution  \n",
       "996             False               Finance  \n",
       "997             False               Product  \n",
       "998             False  Business Development  \n",
       "999              True                 Sales  \n",
       "\n",
       "[1000 rows x 8 columns]"
      ]
     },
     "execution_count": 9,
     "metadata": {},
     "output_type": "execute_result"
    }
   ],
   "source": [
    "import numpy as np\n",
    "import pandas as pd\n",
    "df = pd.read_csv(url)\n",
    "print(df[10:25])\n",
    "#replace all NaN values with 0.0.\n",
    "df.replace(to_replace=np.nan,value=0.0)"
   ]
  },
  {
   "cell_type": "markdown",
   "id": "a59fe12e-1adf-44aa-a14e-debbbea17679",
   "metadata": {},
   "source": [
    "<h1>3. Using interpolate():</h1>\n",
    "The <b>interpolate()</b> function fills missing values using interpolation techniques such as the linear method."
   ]
  },
  {
   "cell_type": "code",
   "execution_count": 10,
   "id": "0decd5d6-215a-4e3b-822f-58ebab92c250",
   "metadata": {},
   "outputs": [
    {
     "data": {
      "text/html": [
       "<div>\n",
       "<style scoped>\n",
       "    .dataframe tbody tr th:only-of-type {\n",
       "        vertical-align: middle;\n",
       "    }\n",
       "\n",
       "    .dataframe tbody tr th {\n",
       "        vertical-align: top;\n",
       "    }\n",
       "\n",
       "    .dataframe thead th {\n",
       "        text-align: right;\n",
       "    }\n",
       "</style>\n",
       "<table border=\"1\" class=\"dataframe\">\n",
       "  <thead>\n",
       "    <tr style=\"text-align: right;\">\n",
       "      <th></th>\n",
       "      <th>A</th>\n",
       "      <th>B</th>\n",
       "      <th>C</th>\n",
       "    </tr>\n",
       "  </thead>\n",
       "  <tbody>\n",
       "    <tr>\n",
       "      <th>0</th>\n",
       "      <td>100.0</td>\n",
       "      <td>NaN</td>\n",
       "      <td>32.0</td>\n",
       "    </tr>\n",
       "    <tr>\n",
       "      <th>1</th>\n",
       "      <td>39.0</td>\n",
       "      <td>43.0</td>\n",
       "      <td>55.0</td>\n",
       "    </tr>\n",
       "    <tr>\n",
       "      <th>2</th>\n",
       "      <td>50.0</td>\n",
       "      <td>54.5</td>\n",
       "      <td>55.0</td>\n",
       "    </tr>\n",
       "    <tr>\n",
       "      <th>3</th>\n",
       "      <td>50.0</td>\n",
       "      <td>66.0</td>\n",
       "      <td>55.0</td>\n",
       "    </tr>\n",
       "  </tbody>\n",
       "</table>\n",
       "</div>"
      ],
      "text/plain": [
       "       A     B     C\n",
       "0  100.0   NaN  32.0\n",
       "1   39.0  43.0  55.0\n",
       "2   50.0  54.5  55.0\n",
       "3   50.0  66.0  55.0"
      ]
     },
     "execution_count": 10,
     "metadata": {},
     "output_type": "execute_result"
    }
   ],
   "source": [
    "#Example:\n",
    "import pandas as pd\n",
    "import numpy as np\n",
    "df_1 = pd.DataFrame({\"A\":[100,39,50,None],\n",
    "                    \"B\":[None,43,None,66],\n",
    "                    \"C\":[32,55,None,None]})\n",
    "# interpolate the missing values using Linear method.\n",
    "#This method ignore the index and consider the values as equally spaced. \n",
    "df_1.interpolate(method=\"linear\",limit_direction=\"forward\")"
   ]
  },
  {
   "cell_type": "markdown",
   "id": "47e10b0b-4df7-47b3-b7b4-3b8ac8208feb",
   "metadata": {},
   "source": [
    "# 3.Dropping Missing Values in Pandas\n",
    "The <b>dropna()</b> function used to removes rows or columns with NaN values.<br>\n",
    "It can be used to drop data based on different conditions.<br>\n",
    "<h2>1. Dropping Rows with At Least One Null Value</h2>\n",
    "Remove rows that contain at least one missing value."
   ]
  },
  {
   "cell_type": "code",
   "execution_count": 11,
   "id": "06ec84f5-6616-434d-b7a3-d08fed2e17ff",
   "metadata": {},
   "outputs": [
    {
     "name": "stdout",
     "output_type": "stream",
     "text": [
      "   First Score  Second Score  Third Score  Fourth Score\n",
      "0        100.0          30.0           52           NaN\n",
      "1         90.0           NaN           40           NaN\n",
      "2          NaN          45.0           80           NaN\n",
      "3         95.0          56.0           98          65.0\n",
      "   First Score  Second Score  Third Score  Fourth Score\n",
      "3         95.0          56.0           98          65.0\n"
     ]
    }
   ],
   "source": [
    "import pandas as pd\n",
    "import numpy as np\n",
    "data_2 = pd.DataFrame({'First Score': [100, 90, np.nan, 95],\n",
    "        'Second Score': [30, np.nan, 45, 56],\n",
    "        'Third Score': [52, 40, 80, 98],\n",
    "        'Fourth Score': [np.nan, np.nan, np.nan, 65]})\n",
    "print(data_2)\n",
    "# use dropna()\n",
    "print(data_2.dropna())"
   ]
  },
  {
   "cell_type": "markdown",
   "id": "df68814f-beda-4235-8fc0-4ecf921b758f",
   "metadata": {},
   "source": [
    "<h2>2. Dropping Rows with All Null Values:</h2>\n",
    "We can drop rows where all values are missing using <b>dropna(how='all')</b>"
   ]
  },
  {
   "cell_type": "code",
   "execution_count": 12,
   "id": "4d4301aa-8d3a-45c5-b4ab-4e5534cc5339",
   "metadata": {},
   "outputs": [
    {
     "name": "stdout",
     "output_type": "stream",
     "text": [
      "   First Score  Second Score  Third Score  Fourth Score\n",
      "0        100.0          30.0         52.0           NaN\n",
      "1          NaN           NaN          NaN           NaN\n",
      "2          NaN          45.0         80.0           NaN\n",
      "3         95.0          56.0         98.0           NaN\n",
      "   First Score  Second Score  Third Score  Fourth Score\n",
      "0        100.0          30.0         52.0           NaN\n",
      "2          NaN          45.0         80.0           NaN\n",
      "3         95.0          56.0         98.0           NaN\n"
     ]
    }
   ],
   "source": [
    "drop_rows_NaN = pd.DataFrame({'First Score': [100, np.nan, np.nan, 95],\n",
    "        'Second Score': [30, np.nan, 45, 56],\n",
    "        'Third Score': [52, np.nan, 80, 98],\n",
    "        'Fourth Score': [np.nan, np.nan, np.nan, np.nan]})\n",
    "print(drop_rows_NaN)\n",
    "# use dropna(how='all')\n",
    "print(drop_rows_NaN.dropna(how=\"all\"))"
   ]
  },
  {
   "cell_type": "markdown",
   "id": "4e19ffc2-f7c3-40e1-8c6b-3da02e314bdf",
   "metadata": {},
   "source": [
    "<h2>3. Dropping Columns with At Least One Null Value:</h2>\n",
    "To remove columns that contain at least one missing value we use <b>dropna(axis=1)</b>."
   ]
  },
  {
   "cell_type": "code",
   "execution_count": 13,
   "id": "a6383260-417a-4488-aeba-a1ba2d69a827",
   "metadata": {},
   "outputs": [
    {
     "name": "stdout",
     "output_type": "stream",
     "text": [
      "   First Score  Second Score  Third Score  Fourth Score\n",
      "0        100.0          30.0         52.0            60\n",
      "1          NaN           NaN          NaN            67\n",
      "2          NaN          45.0         80.0            68\n",
      "3         95.0          56.0         98.0            65\n",
      "   Fourth Score\n",
      "0            60\n",
      "1            67\n",
      "2            68\n",
      "3            65\n"
     ]
    }
   ],
   "source": [
    "dict = {'First Score': [100, np.nan, np.nan, 95],\n",
    "        'Second Score': [30, np.nan, 45, 56],\n",
    "        'Third Score': [52, np.nan, 80, 98],\n",
    "        'Fourth Score': [60, 67, 68, 65]}\n",
    "dataframe = pd.DataFrame(dict)\n",
    "print(dataframe)\n",
    "#remove columns those have atleast one NaN\n",
    "print(dataframe.dropna(axis=1))"
   ]
  },
  {
   "cell_type": "markdown",
   "id": "a2875171-2f34-4c33-ad0d-4a7939719952",
   "metadata": {},
   "source": [
    "<h2>4. Dropping Rows with Missing Values in CSV Files</h2>\n",
    "When working with CSV files, we can drop rows with missing values using dropna()."
   ]
  },
  {
   "cell_type": "code",
   "execution_count": 14,
   "id": "77657770-656f-4e8e-99f6-53cec50c3d68",
   "metadata": {},
   "outputs": [
    {
     "name": "stdout",
     "output_type": "stream",
     "text": [
      "    First Name  Gender Start Date Last Login Time  Salary  Bonus %  \\\n",
      "0      Douglas    Male   8/6/1993        12:42 PM   97308    6.945   \n",
      "2        Maria  Female  4/23/1993        11:17 AM  130590   11.858   \n",
      "3        Jerry    Male   3/4/2005         1:00 PM  138705    9.340   \n",
      "4        Larry    Male  1/24/1998         4:47 PM  101004    1.389   \n",
      "5       Dennis    Male  4/18/1987         1:35 AM  115163   10.125   \n",
      "..         ...     ...        ...             ...     ...      ...   \n",
      "994     George    Male  6/21/2013         5:47 PM   98874    4.479   \n",
      "996    Phillip    Male  1/31/1984         6:30 AM   42392   19.675   \n",
      "997    Russell    Male  5/20/2013        12:39 PM   96914    1.421   \n",
      "998      Larry    Male  4/20/2013         4:45 PM   60500   11.985   \n",
      "999     Albert    Male  5/15/2012         6:24 PM  129949   10.169   \n",
      "\n",
      "    Senior Management                  Team  \n",
      "0                True             Marketing  \n",
      "2               False               Finance  \n",
      "3                True               Finance  \n",
      "4                True       Client Services  \n",
      "5               False                 Legal  \n",
      "..                ...                   ...  \n",
      "994              True             Marketing  \n",
      "996             False               Finance  \n",
      "997             False               Product  \n",
      "998             False  Business Development  \n",
      "999              True                 Sales  \n",
      "\n",
      "[764 rows x 8 columns]\n",
      "Old data frame length: 1000\n",
      "New data frame length: 764\n",
      "Rows with at least one missing value: 236\n"
     ]
    }
   ],
   "source": [
    "import pandas as pd\n",
    "da= pd.read_csv(url)\n",
    "# drop rows those have missing values\n",
    "nd = da.dropna(axis=0, how='any')\n",
    "print(nd)\n",
    "\n",
    "print(\"Old data frame length:\", len(da))\n",
    "print(\"New data frame length:\", len(nd))\n",
    "print(\"Rows with at least one missing value:\", (len(da) - len(nd)))"
   ]
  },
  {
   "cell_type": "markdown",
   "id": "8de8b801-b04a-4540-a743-50d5d8df7fc8",
   "metadata": {},
   "source": [
    "# 2. Removing Duplicate:\n",
    "Pandas dataframe<b>.drop_duplicates()</b><br>\n",
    "Syntax:<br>\n",
    "<b>DataFrame.drop_duplicates(subset=None, keep='first', inplace=False)</b><br>\n",
    "Parameters:<br>\n",
    "1. subset: Specifies the columns to check for duplicates. If not provided all columns are considered.<br>\n",
    "2. keep: Finds which duplicate to keep:<br>\n",
    " 'first' (default): Keeps the first occurrence, removes subsequent duplicates.<br>\n",
    " 'last': Keeps the last occurrence and removes previous duplicates.<br>\n",
    " False: Removes all occurrences of duplicates.<br>\n",
    "3. inplace: If True it modifies the original DataFrame directly. If False (default), returns a new DataFrame.<br>\n",
    "Return type: Method returns a new DataFrame with duplicates removed unless inplace=True."
   ]
  },
  {
   "cell_type": "code",
   "execution_count": 15,
   "id": "73757ada-4da3-47f2-b03e-7aa6deca26a1",
   "metadata": {},
   "outputs": [
    {
     "name": "stdout",
     "output_type": "stream",
     "text": [
      "original data:\n",
      "     Name  Age City\n",
      "0  Alice   25   NY\n",
      "1    Bob   21   LA\n",
      "2   Jhon   30   SK\n",
      "3    Bob   21   LA\n",
      "No duplicate data:\n",
      "\n",
      "    Name  Age City\n",
      "0  Alice   25   NY\n",
      "1    Bob   21   LA\n",
      "2   Jhon   30   SK\n"
     ]
    }
   ],
   "source": [
    "#example1: simple work of .drop_duplicates()\n",
    "import pandas as pd\n",
    "data = pd.DataFrame({\"Name\":[\"Alice\",\"Bob\",\"Jhon\",\"Bob\"],\n",
    "                    \"Age\":[25,21,30,21],\n",
    "                    \"City\":[\"NY\",\"LA\",\"SK\",\"LA\"]})\n",
    "print(\"original data:\\n\",data)\n",
    "clean = data.drop_duplicates(subset=None,inplace=False,keep=\"first\")\n",
    "print(\"No duplicate data:\\n\")\n",
    "print(clean)"
   ]
  },
  {
   "cell_type": "markdown",
   "id": "1c7ba7f4-a8ad-4184-a125-88bb9bc97c7f",
   "metadata": {},
   "source": [
    "<b>dataframe.drop_duplicates() method:</b><br>\n",
    "<h2>1. Dropping Duplicates Based on Specific Columns:</h2>"
   ]
  },
  {
   "cell_type": "code",
   "execution_count": 16,
   "id": "d857e5be-8289-4ea8-8147-9bd683603556",
   "metadata": {},
   "outputs": [
    {
     "name": "stdout",
     "output_type": "stream",
     "text": [
      "    Name  Age City\n",
      "0  Alice   25   NY\n",
      "1    Bob   21   LA\n",
      "2   Jhon   30   SK\n"
     ]
    }
   ],
   "source": [
    "#example2: remove duplicate name columns\n",
    "df_clean = data.drop_duplicates(subset=[\"Name\"])\n",
    "#Here duplicates are removed only based on the Name column while Age and\n",
    "#City are ignored for the purpose of removing duplicates.\n",
    "print(df_clean)"
   ]
  },
  {
   "cell_type": "markdown",
   "id": "c97fc168-1489-4220-ad28-f29958297e35",
   "metadata": {},
   "source": [
    "<h2>2. Keeping the Last Occurrence of Duplicates</h2>\n",
    "By default drop_duplicates() retains the first occurrence of duplicates.<br>\n",
    "If we want to keep the last occurrence we can use keep='last'.<br>"
   ]
  },
  {
   "cell_type": "code",
   "execution_count": 17,
   "id": "4095662e-415f-45f4-bc73-40a4696026f2",
   "metadata": {},
   "outputs": [
    {
     "name": "stdout",
     "output_type": "stream",
     "text": [
      "    Name  Age City\n",
      "0  Alice   25   NY\n",
      "2   Jhon   30   SK\n",
      "3    Bob   21   LA\n"
     ]
    }
   ],
   "source": [
    "#example3: keep the last value\n",
    "keep_last = data.drop_duplicates(keep=\"last\")\n",
    "#it will remove the index 1 row and keep index 3\n",
    "print(keep_last)"
   ]
  },
  {
   "cell_type": "markdown",
   "id": "314f664d-d961-4a21-84ef-7062743a1542",
   "metadata": {},
   "source": [
    "<h2>3. Dropping All Duplicates:</h2>\n",
    "If we want to remove all rows that are duplicates.<br>\n",
    "i.e retain only completely unique rows amd here we can set keep=False."
   ]
  },
  {
   "cell_type": "code",
   "execution_count": 18,
   "id": "232410de-1d04-4190-b6a4-e1c16281b8c4",
   "metadata": {},
   "outputs": [
    {
     "name": "stdout",
     "output_type": "stream",
     "text": [
      "    Name  Age City\n",
      "0  Alice   25   NY\n",
      "2   Jhon   30   SK\n"
     ]
    }
   ],
   "source": [
    "#example4: drop all duplicates\n",
    "no_keep = data.drop_duplicates(keep=False)\n",
    "#it will remove all the dublicates row \n",
    "print(no_keep)"
   ]
  },
  {
   "cell_type": "markdown",
   "id": "40a3a2d2-4613-4db0-a1a6-cd3ecfce16ea",
   "metadata": {},
   "source": [
    "<h2>4. Modifying the Original DataFrame Directly</h2>\n",
    "* if want to modify the DataFrame in place without creating a new DataFrame set inplace=True.<br>\n",
    "* Using inplace=True directly modifies the original DataFrame saving memory and avoiding the need to assign the result to a    new variable."
   ]
  },
  {
   "cell_type": "code",
   "execution_count": 19,
   "id": "88c82cfd-094f-4c8e-922e-ad54e9789997",
   "metadata": {},
   "outputs": [
    {
     "name": "stdout",
     "output_type": "stream",
     "text": [
      "    Name  Age     City\n",
      "0  Alice   25       NY\n",
      "1    Bob   30       LA\n",
      "3  David   40  Chicago\n"
     ]
    }
   ],
   "source": [
    "#example5: modify the original value \n",
    "import pandas as pd\n",
    "\n",
    "df = pd.DataFrame({\n",
    "    'Name': ['Alice', 'Bob', 'Alice', 'David'],\n",
    "    'Age': [25, 30, 25, 40],\n",
    "    'City': ['NY', 'LA', 'NY', 'Chicago']\n",
    "})\n",
    "df.drop_duplicates(inplace=True)\n",
    "# df is modified\n",
    "print(df)"
   ]
  },
  {
   "cell_type": "markdown",
   "id": "6300b538-6c71-495b-becc-7c0bd405a9d1",
   "metadata": {},
   "source": [
    "<h2>5. Dropping Duplicates Based on Partially Identical Columns</h2>\n",
    "Sometimes we might encounter situations where duplicates are not exact rows but have identical values in certain columns."
   ]
  },
  {
   "cell_type": "code",
   "execution_count": 20,
   "id": "ffa363ab-7999-491a-a7e7-7ae3ae6b8408",
   "metadata": {},
   "outputs": [
    {
     "name": "stdout",
     "output_type": "stream",
     "text": [
      "original data:\n",
      "     Name  Age     City\n",
      "0  Alice   25       NY\n",
      "1    Bob   30       LA\n",
      "2  Alice   55       NY\n",
      "3  David   40  Chicago\n",
      "4    Bob   39       LA\n",
      "after dropping\n",
      "     Name  Age     City\n",
      "0  Alice   25       NY\n",
      "1    Bob   30       LA\n",
      "3  David   40  Chicago\n"
     ]
    }
   ],
   "source": [
    "import pandas as pd\n",
    "\n",
    "data2 = {\n",
    "    \"Name\": [\"Alice\", \"Bob\", \"Alice\", \"David\", \"Bob\"],\n",
    "    \"Age\": [25, 30, 55, 40, 39],\n",
    "    \"City\": [\"NY\", \"LA\", \"NY\", \"Chicago\", \"LA\"]\n",
    "}\n",
    "\n",
    "df2 = pd.DataFrame(data2)\n",
    "print(\"original data:\\n\",df2)\n",
    "df_cleaned2 = df2.drop_duplicates(subset=[\"Name\", \"City\"])\n",
    "\n",
    "print(\"after dropping\\n\",df_cleaned2)\n",
    "#Here duplicates are removed based on the Name and City columns leaving only unique combinations of Name and City."
   ]
  },
  {
   "cell_type": "markdown",
   "id": "cffabe3b-e4f1-4468-ac1b-bdd252ec493b",
   "metadata": {},
   "source": [
    "# Pandas Change Datatype:\n",
    "The most common way to change the data type of a column in a Pandas DataFrame is by using the <b>astype()</b> method.<br>\n",
    "This method allows you to convert a specific column to a desired data type."
   ]
  },
  {
   "cell_type": "code",
   "execution_count": 21,
   "id": "6a0b26ca-62bd-460a-a754-d50fa659de8b",
   "metadata": {},
   "outputs": [
    {
     "name": "stdout",
     "output_type": "stream",
     "text": [
      "      Name   Age Gender  Salary\n",
      "0     Jhon  10.0      M    1000\n",
      "1    Alice  20.0      M    2000\n",
      "2      Bob  30.0      M    3000\n",
      "3  Charlie  40.0      F    4000\n",
      "Name       object\n",
      "Age       float64\n",
      "Gender     object\n",
      "Salary      int64\n",
      "dtype: object\n"
     ]
    }
   ],
   "source": [
    "# using astype() method:\n",
    "import pandas as pd\n",
    "data3 = pd.DataFrame({\"Name\":[\"Jhon\",\"Alice\",\"Bob\",\"Charlie\"],\n",
    "                     \"Age\":[10,20,30,40],\n",
    "                     \"Gender\":[\"M\",\"M\",\"M\",\"F\"],\n",
    "                     \"Salary\":[1000,2000,3000,4000]})\n",
    "#convert 'Age' columns to float data type\n",
    "data3[\"Age\"]=data3[\"Age\"].astype(float)\n",
    "print(data3)\n",
    "print(data3.dtypes)"
   ]
  },
  {
   "cell_type": "markdown",
   "id": "c8db184a-f634-4c60-b087-c1c5ba214af8",
   "metadata": {},
   "source": [
    "<b>Converting a Column to a DateTime Type:</b><br>\n",
    "Sometimes, a column that contains date information may be stored as a string.<br>\n",
    "You can convert it to the datetime type using the <b>pd.to_datetime()</b> function."
   ]
  },
  {
   "cell_type": "code",
   "execution_count": 22,
   "id": "efe6c079-e65f-4c52-beaf-ae7d3750c428",
   "metadata": {},
   "outputs": [
    {
     "name": "stdout",
     "output_type": "stream",
     "text": [
      "      Name   Age Gender  Salary  Join Date\n",
      "0     Jhon  10.0      M    1000 2021-01-01\n",
      "1    Alice  20.0      M    2000 2020-05-22\n",
      "2      Bob  30.0      M    3000 2022-03-15\n",
      "3  Charlie  40.0      F    4000 2021-07-30\n",
      "types of them:\n",
      " Name                 object\n",
      "Age                 float64\n",
      "Gender               object\n",
      "Salary                int64\n",
      "Join Date    datetime64[ns]\n",
      "dtype: object\n"
     ]
    }
   ],
   "source": [
    "# example: creat a joinnig time column in data3 in str value\n",
    "data3[\"Join Date\"] = ['2021-01-01', '2020-05-22', '2022-03-15', '2021-07-30']\n",
    "# convert it into to_datetime\n",
    "data3[\"Join Date\"] = pd.to_datetime(data3[\"Join Date\"])\n",
    "print(data3)\n",
    "print(\"types of them:\\n\",data3.dtypes)"
   ]
  },
  {
   "cell_type": "markdown",
   "id": "f778ce94-2216-4038-ac37-d9d624df3f1c",
   "metadata": {},
   "source": [
    "<b>change multiple columns data type</b><br>\n",
    "If you need to change the data types of multiple columns at once, you can pass a dictionary to the astype() method,<br>\n",
    "where keys are column names and values are the desired data types."
   ]
  },
  {
   "cell_type": "code",
   "execution_count": 23,
   "id": "00ae2bb9-3962-4400-bff2-a998d24c0543",
   "metadata": {},
   "outputs": [
    {
     "name": "stdout",
     "output_type": "stream",
     "text": [
      "Name                 object\n",
      "Age                   int32\n",
      "Gender               object\n",
      "Salary               object\n",
      "Join Date    datetime64[ns]\n",
      "dtype: object\n"
     ]
    }
   ],
   "source": [
    "# example cahange age and salary to int and str\n",
    "data3 = data3.astype({\"Age\":\"int\",\"Salary\":\"str\"})\n",
    "print(data3.dtypes)"
   ]
  },
  {
   "cell_type": "markdown",
   "id": "ed1ecd37-ac9b-4f35-9d28-09ada69a5a64",
   "metadata": {},
   "source": [
    "# Drop Empty Columns in Pandas:\n",
    "<h1>1. Understanding dropna():</h1>\n",
    "Syntax:<br>\n",
    "<b>DataFrameName.dropna(axis=0, how='any', inplace=False)</b><br>\n",
    "Parameters:<br>\n",
    "<b>axis:</b> axis takes int or string value for rows/columns.<br>\n",
    "  Input can be 0 or 1 for Integer and ‘index’ or ‘columns’ for String.<br>\n",
    "<b>how:</b> how takes string value of two kinds only (‘any’ or ‘all’).<br> \n",
    "  ‘any’ drops the row/column if ANY value is Null and ‘all’ drops only if ALL values are null.<br>\n",
    "<b>inplace:</b> It is a boolean which makes the changes in the data frame itself if True.<br>\n",
    "the examples are given avobe the cell.<br>\n",
    "<h1>Replace Both Zeros and Empty Strings with Null and Drop Null Columns:</h1>\n",
    "If a column contains empty strings we need to replace them with NaN before dropping the column.<br>\n",
    "Empty strings are not automatically recognized as missing values in<br>\n",
    "Pandas so converting them to NaN ensures they can be handled correctly.<br>"
   ]
  },
  {
   "cell_type": "code",
   "execution_count": 24,
   "id": "384694e8-0bd8-42df-82ab-471822715605",
   "metadata": {},
   "outputs": [
    {
     "name": "stdout",
     "output_type": "stream",
     "text": [
      "  FirstName\n",
      "0     Vipul\n",
      "1    Ashish\n",
      "2     Milan\n"
     ]
    },
    {
     "name": "stderr",
     "output_type": "stream",
     "text": [
      "C:\\Users\\ASHRAF\\AppData\\Local\\Temp\\ipykernel_11888\\2420797413.py:18: FutureWarning: Downcasting behavior in `replace` is deprecated and will be removed in a future version. To retain the old behavior, explicitly call `result.infer_objects(copy=False)`. To opt-in to the future behavior, set `pd.set_option('future.no_silent_downcasting', True)`\n",
      "  df.replace(\"\", nan_value,inplace=True )\n"
     ]
    }
   ],
   "source": [
    "#example:To clean a dataset fully we may need to replace both zeros and empty strings.\n",
    "import numpy as np\n",
    "import pandas as pd\n",
    "\n",
    "df = pd.DataFrame({'FirstName': ['Vipul', 'Ashish', 'Milan'],\n",
    "                   \"Gender\": [\"\", \"\", \"\"],\n",
    "                   \"Age\": [0, 0, 0]})\n",
    "\n",
    "df['Department'] = np.nan\n",
    "\n",
    "nan_value = float(\"NaN\")\n",
    "\n",
    "# Convert specific columns before replacement\n",
    "df[\"Gender\"] = df[\"Gender\"].astype(object)\n",
    "df[\"Age\"] = df[\"Age\"].astype(float)\n",
    "\n",
    "df.replace(0, nan_value,inplace=True)\n",
    "df.replace(\"\", nan_value,inplace=True )\n",
    "\n",
    "df.dropna(how='all', axis=1, inplace=True)\n",
    "\n",
    "print(df)\n"
   ]
  },
  {
   "cell_type": "markdown",
   "id": "a9a64fcc-dc8c-4b66-a2b2-780b1295329c",
   "metadata": {},
   "source": [
    "# String manipulations in Pandas DataFrame\n",
    "String manipulation is the process of changing, parsing, splicing, pasting or analyzing strings.<br>\n",
    "<b>Create a String Dataframe using Pandas</b>"
   ]
  },
  {
   "cell_type": "code",
   "execution_count": 25,
   "id": "f77e0252-0ad6-4857-a62e-eff8977f8742",
   "metadata": {},
   "outputs": [
    {
     "name": "stdout",
     "output_type": "stream",
     "text": [
      "      Names       City\n",
      "0   Gulshan      Delhi\n",
      "1  Shashank     Mumbai\n",
      "2     Bablu    Kolkata\n",
      "3  Abhishek      Delhi\n",
      "4     Anand    Chennai\n",
      "5       NaN  Bangalore\n",
      "6    Pratap  Hyderabad\n"
     ]
    }
   ],
   "source": [
    "#simple str dataframe:\n",
    "import pandas as pd\n",
    "import numpy as np\n",
    "\n",
    "data = {'Names': ['Gulshan', 'Shashank', 'Bablu', 'Abhishek', 'Anand', np.nan, 'Pratap'],\n",
    "        'City': ['Delhi', 'Mumbai', 'Kolkata', 'Delhi', 'Chennai', 'Bangalore', 'Hyderabad']}\n",
    "\n",
    "df = pd.DataFrame(data)\n",
    "print(df)"
   ]
  },
  {
   "cell_type": "markdown",
   "id": "e219db52-4ba7-4bb5-9ee9-52c55bace1dd",
   "metadata": {},
   "source": [
    "<h1>String Manipulations in Pandas</h1>\n",
    "various mathod for manipulations.<br>\n",
    "<b> 1. str.lower()<br>\n",
    "    2. str.upper()<br>\n",
    "    3. str.strip()<br>\n",
    "    4. str.split()<br>\n",
    "    5. str.len()<br>\n",
    "    6. str.cat(sep='')<br>\n",
    "    7. str.get_dummies()<br>\n",
    "    8. str.startswith(pattern)<br>\n",
    "    9. str.endswith(pattern)<br>\n",
    "    10. str.replace(a,b)<br>\n",
    "    11. str.repeat(value)<br>\n",
    "    12. str.count(pattern)<br>\n",
    "    13. str.find(pattern)<br>\n",
    "    14. str.findall(pattern)<br>\n",
    "    15. str.islower()<br>\n",
    "    16. str.isupper()<br>\n",
    "    17. str.isnumeric()<br>\n",
    "    18. str.swapcase()<br>\n",
    "</b><br>\n",
    "<b>1. lower():</b> Converts all uppercase characters in strings in the DataFrame to lower case and returns the lowercase strings in the result.<br>"
   ]
  },
  {
   "cell_type": "code",
   "execution_count": 26,
   "id": "b529311e-b6b2-4f22-9787-3d0090984866",
   "metadata": {},
   "outputs": [
    {
     "name": "stdout",
     "output_type": "stream",
     "text": [
      "0     gulshan\n",
      "1    shashank\n",
      "2       bablu\n",
      "3    abhishek\n",
      "4       anand\n",
      "5         NaN\n",
      "6      pratap\n",
      "Name: Names, dtype: object\n"
     ]
    }
   ],
   "source": [
    "#example lower(): get all names in lowercase\n",
    "print(df[\"Names\"].str.lower())"
   ]
  },
  {
   "cell_type": "markdown",
   "id": "d6eeee73-c823-41ce-a201-aca603486688",
   "metadata": {},
   "source": [
    "<b>2.upper():</b> Converts all lowercase characters in strings in the DataFrame to upper case and returns the uppercase strings in result."
   ]
  },
  {
   "cell_type": "code",
   "execution_count": 27,
   "id": "4b74cde7-3797-4104-b750-5847bf746d52",
   "metadata": {},
   "outputs": [
    {
     "name": "stdout",
     "output_type": "stream",
     "text": [
      "0     GULSHAN\n",
      "1    SHASHANK\n",
      "2       BABLU\n",
      "3    ABHISHEK\n",
      "4       ANAND\n",
      "5         NaN\n",
      "6      PRATAP\n",
      "Name: Names, dtype: object\n"
     ]
    }
   ],
   "source": [
    "#example upper(): get all names in uppercase\n",
    "print(df[\"Names\"].str.upper())"
   ]
  },
  {
   "cell_type": "markdown",
   "id": "88bb596a-6ece-45b4-82be-0f12e8358895",
   "metadata": {},
   "source": [
    "<b>3.strip():</b> If there are spaces at the beginning or end of a string, we should trim the strings to eliminate spaces using strip() or remove the extra spaces contained by a string in DataFrame."
   ]
  },
  {
   "cell_type": "code",
   "execution_count": 28,
   "id": "88ee27ea-dcb5-4a12-930b-cf8e7e28fea9",
   "metadata": {},
   "outputs": [
    {
     "name": "stdout",
     "output_type": "stream",
     "text": [
      "0     Gulshan\n",
      "1    Shashank\n",
      "2       Bablu\n",
      "3    Abhishek\n",
      "4       Anand\n",
      "5         NaN\n",
      "6      Pratap\n",
      "Name: Names, dtype: object\n"
     ]
    }
   ],
   "source": [
    "#example if their any unnecessary space have in names then delet them.\n",
    "print(df[\"Names\"].str.strip())"
   ]
  },
  {
   "cell_type": "markdown",
   "id": "296e7c26-91da-46c1-ba51-0fab750bc52a",
   "metadata": {},
   "source": [
    "<b>4.split(' '):</b> Splits each string with the given pattern. Strings are split and the new elements after the performed split operation, are stored in a list."
   ]
  },
  {
   "cell_type": "code",
   "execution_count": 29,
   "id": "3492584b-2a7f-4ff1-a075-ef93285f347c",
   "metadata": {},
   "outputs": [
    {
     "name": "stdout",
     "output_type": "stream",
     "text": [
      "      Names   Split_Names\n",
      "0   Gulshan    [Gulsh, n]\n",
      "1  Shashank  [Sh, sh, nk]\n",
      "2     Bablu      [B, blu]\n",
      "3  Abhishek    [Abhishek]\n",
      "4     Anand      [An, nd]\n",
      "5       NaN           NaN\n",
      "6    Pratap    [Pr, t, p]\n"
     ]
    }
   ],
   "source": [
    "df['Split_Names'] = df['Names'].str.split('a')\n",
    "print(df[['Names', 'Split_Names']])"
   ]
  },
  {
   "cell_type": "markdown",
   "id": "faef06dc-03ec-48b5-82d8-e0c2e1d8a4ef",
   "metadata": {},
   "source": [
    "<b>5.len():</b> With the help of len() we can compute the length of each string in DataFrame & if there is empty data in DataFrame, it returns NaN."
   ]
  },
  {
   "cell_type": "code",
   "execution_count": 30,
   "id": "aeaa7a35-79b1-4f56-9daf-7783a3e3d701",
   "metadata": {},
   "outputs": [
    {
     "name": "stdout",
     "output_type": "stream",
     "text": [
      "0    7.0\n",
      "1    8.0\n",
      "2    5.0\n",
      "3    8.0\n",
      "4    5.0\n",
      "5    NaN\n",
      "6    6.0\n",
      "Name: Names, dtype: float64\n"
     ]
    }
   ],
   "source": [
    "#example:\n",
    "print(df[\"Names\"].str.len())"
   ]
  },
  {
   "cell_type": "markdown",
   "id": "3d88c30f-2fb3-46c5-8a66-730cd2380c75",
   "metadata": {},
   "source": [
    "<b>6.cat(sep=' '):</b> It concatenates the data-frame index elements or each string in DataFrame with given separator."
   ]
  },
  {
   "cell_type": "code",
   "execution_count": 31,
   "id": "06bbf9f6-214a-4a76-ad2e-9d3cacb69b54",
   "metadata": {},
   "outputs": [
    {
     "name": "stdout",
     "output_type": "stream",
     "text": [
      "      Names       City   Split_Names\n",
      "0   Gulshan      Delhi    [Gulsh, n]\n",
      "1  Shashank     Mumbai  [Sh, sh, nk]\n",
      "2     Bablu    Kolkata      [B, blu]\n",
      "3  Abhishek      Delhi    [Abhishek]\n",
      "4     Anand    Chennai      [An, nd]\n",
      "5       NaN  Bangalore           NaN\n",
      "6    Pratap  Hyderabad    [Pr, t, p]\n",
      "\n",
      "after using cat:\n",
      "\n",
      "Gulshan, Shashank, Bablu, Abhishek, Anand, Pratap\n"
     ]
    }
   ],
   "source": [
    "print(df)\n",
    "print(\"\\nafter using cat:\\n\")\n",
    "print(df[\"Names\"].str.cat(sep=\", \"))"
   ]
  },
  {
   "cell_type": "markdown",
   "id": "fa495afe-5270-4610-8ca4-3ffaa9ad8910",
   "metadata": {},
   "source": [
    "<b>7.get_dummies():</b> It returns the DataFrame with One-Hot Encoded values like we can see that it returns boolean value 1 if it exists in relative index or 0 if not exists."
   ]
  },
  {
   "cell_type": "code",
   "execution_count": 32,
   "id": "7b9ef8ed-2a38-408a-8a1a-5d175593386f",
   "metadata": {
    "scrolled": true
   },
   "outputs": [
    {
     "name": "stdout",
     "output_type": "stream",
     "text": [
      "   Bangalore  Chennai  Delhi  Hyderabad  Kolkata  Mumbai\n",
      "0          0        0      1          0        0       0\n",
      "1          0        0      0          0        0       1\n",
      "2          0        0      0          0        1       0\n",
      "3          0        0      1          0        0       0\n",
      "4          0        1      0          0        0       0\n",
      "5          1        0      0          0        0       0\n",
      "6          0        0      0          1        0       0\n"
     ]
    }
   ],
   "source": [
    "# use on city\n",
    "print(df[\"City\"].str.get_dummies())"
   ]
  },
  {
   "cell_type": "markdown",
   "id": "287294c2-79aa-4c01-8b07-193f9eb48918",
   "metadata": {},
   "source": [
    "<b>8.startswith(pattern):</b> It returns true if the element or string in the DataFrame Index starts with the pattern."
   ]
  },
  {
   "cell_type": "code",
   "execution_count": 33,
   "id": "36eeb8d6-3bee-478c-bc0e-d535fc92911d",
   "metadata": {},
   "outputs": [
    {
     "name": "stdout",
     "output_type": "stream",
     "text": [
      "0     True\n",
      "1    False\n",
      "2    False\n",
      "3    False\n",
      "4    False\n",
      "5      NaN\n",
      "6    False\n",
      "Name: Names, dtype: object\n"
     ]
    }
   ],
   "source": [
    "# give true if the names are start with G\n",
    "print(df['Names'].str.startswith('G'))"
   ]
  },
  {
   "cell_type": "markdown",
   "id": "48cf96ac-bd6b-4a23-9e93-688fbb7021b1",
   "metadata": {},
   "source": [
    "<b>9.endswith(pattern):</b> It returns true if the element or string in the DataFrame Index ends with the pattern."
   ]
  },
  {
   "cell_type": "code",
   "execution_count": 34,
   "id": "0ba007c2-ffe5-4067-bdbc-636f29fd92f6",
   "metadata": {},
   "outputs": [
    {
     "name": "stdout",
     "output_type": "stream",
     "text": [
      "0     True\n",
      "1    False\n",
      "2    False\n",
      "3    False\n",
      "4    False\n",
      "5      NaN\n",
      "6    False\n",
      "Name: Names, dtype: object\n"
     ]
    }
   ],
   "source": [
    "#gives true if the names end with n\n",
    "print(df[\"Names\"].str.endswith(\"n\"))"
   ]
  },
  {
   "cell_type": "markdown",
   "id": "133ebff8-7972-46fa-8781-c1d4d82fafb8",
   "metadata": {},
   "source": [
    "<b>10.Python replace(a,b):</b> It replaces the value a with the value b like below in example 'Gulshan' is being replaced by 'Gaurav"
   ]
  },
  {
   "cell_type": "code",
   "execution_count": 35,
   "id": "6c5ea272-02db-4aee-8b40-e465ab0f1b7c",
   "metadata": {},
   "outputs": [
    {
     "name": "stdout",
     "output_type": "stream",
     "text": [
      "0      Gaurav\n",
      "1    Shashank\n",
      "2       Bablu\n",
      "3    Abhishek\n",
      "4       Anand\n",
      "5         NaN\n",
      "6      Pratap\n",
      "Name: Names, dtype: object\n"
     ]
    }
   ],
   "source": [
    "print(df[\"Names\"].str.replace(\"Gulshan\",\"Gaurav\"))"
   ]
  },
  {
   "cell_type": "markdown",
   "id": "637d13ab-2e69-4723-beaa-52682c37e32a",
   "metadata": {},
   "source": [
    "<b>11.Python repeat(value):</b> It repeats each element with a given number of times like below in example, there are two appearances of each string in DataFrame."
   ]
  },
  {
   "cell_type": "code",
   "execution_count": 36,
   "id": "78d9c6c6-5cc7-44ab-a87e-6d72c8e16321",
   "metadata": {},
   "outputs": [
    {
     "name": "stdout",
     "output_type": "stream",
     "text": [
      "0      GulshanGulshan\n",
      "1    ShashankShashank\n",
      "2          BabluBablu\n",
      "3    AbhishekAbhishek\n",
      "4          AnandAnand\n",
      "5                 NaN\n",
      "6        PratapPratap\n",
      "Name: Names, dtype: object\n"
     ]
    }
   ],
   "source": [
    "print(df[\"Names\"].str.repeat(2))"
   ]
  },
  {
   "cell_type": "markdown",
   "id": "7c52855f-3f08-45f5-94f2-5d1e4d90718a",
   "metadata": {},
   "source": [
    "<b>12.Python count(pattern):</b> It returns the count of the appearance of pattern in each element in Data-Frame like below in example it counts 'n' in each string of DataFrame and returns the total counts of 'a' in each string."
   ]
  },
  {
   "cell_type": "code",
   "execution_count": 37,
   "id": "6ceca7f6-3baf-4a88-a39c-0fe8b1cecb36",
   "metadata": {},
   "outputs": [
    {
     "name": "stdout",
     "output_type": "stream",
     "text": [
      "0    1.0\n",
      "1    2.0\n",
      "2    1.0\n",
      "3    0.0\n",
      "4    1.0\n",
      "5    NaN\n",
      "6    2.0\n",
      "Name: Names, dtype: float64\n"
     ]
    }
   ],
   "source": [
    "print(df['Names'].str.count('a'))"
   ]
  },
  {
   "cell_type": "markdown",
   "id": "0847ad59-b86d-495f-b9dd-b470a52140f8",
   "metadata": {},
   "source": [
    "<b>13.Python find(pattern):</b> It returns the first position of the first occurrence of the pattern.<br>\n",
    "We can see in the example below that it returns the index value of appearance of character 'a' in each string throughout the DataFrame."
   ]
  },
  {
   "cell_type": "code",
   "execution_count": 38,
   "id": "fbf81cba-42dc-4b66-833d-40931a55d88f",
   "metadata": {},
   "outputs": [
    {
     "name": "stdout",
     "output_type": "stream",
     "text": [
      "      Names       City   Split_Names\n",
      "0   Gulshan      Delhi    [Gulsh, n]\n",
      "1  Shashank     Mumbai  [Sh, sh, nk]\n",
      "2     Bablu    Kolkata      [B, blu]\n",
      "3  Abhishek      Delhi    [Abhishek]\n",
      "4     Anand    Chennai      [An, nd]\n",
      "5       NaN  Bangalore           NaN\n",
      "6    Pratap  Hyderabad    [Pr, t, p]\n",
      "0    5.0\n",
      "1    2.0\n",
      "2    1.0\n",
      "3   -1.0\n",
      "4    2.0\n",
      "5    NaN\n",
      "6    2.0\n",
      "Name: Names, dtype: float64\n"
     ]
    }
   ],
   "source": [
    "print(df)\n",
    "print(df['Names'].str.find('a'))"
   ]
  },
  {
   "cell_type": "markdown",
   "id": "ed493f3c-9518-49cd-907a-d848b39b7fe9",
   "metadata": {},
   "source": [
    "<b>14.findall(pattern):</b> It returns a list of all occurrences of the pattern. As we can see in below, there is a returned list consisting n as it appears only once in the string"
   ]
  },
  {
   "cell_type": "code",
   "execution_count": 39,
   "id": "75900fd2-200f-4ddf-b560-2812b19a0880",
   "metadata": {},
   "outputs": [
    {
     "name": "stdout",
     "output_type": "stream",
     "text": [
      "      Names       City\n",
      "0   Gulshan      Delhi\n",
      "1  Shashank     Mumbai\n",
      "2     Bablu    Kolkata\n",
      "3  Abhishek      Delhi\n",
      "4     Anand    Chennai\n",
      "5       NaN  Bangalore\n",
      "6    Pratap  Hyderabad\n",
      "0       [a]\n",
      "1    [a, a]\n",
      "2       [a]\n",
      "3        []\n",
      "4       [a]\n",
      "5       NaN\n",
      "6    [a, a]\n",
      "Name: Names, dtype: object\n"
     ]
    }
   ],
   "source": [
    "import pandas as pd\n",
    "import numpy as np\n",
    "\n",
    "data = {'Names': ['Gulshan', 'Shashank', 'Bablu', 'Abhishek', 'Anand', np.nan, 'Pratap'],\n",
    "        'City': ['Delhi', 'Mumbai', 'Kolkata', 'Delhi', 'Chennai', 'Bangalore', 'Hyderabad']}\n",
    "\n",
    "df = pd.DataFrame(data)\n",
    "print(df)\n",
    "print(df[\"Names\"].str.findall(\"a\"))"
   ]
  },
  {
   "cell_type": "markdown",
   "id": "f6df3f38-648a-4c57-a8cf-726846937504",
   "metadata": {},
   "source": [
    "<b>15.islower():</b> It checks whether all characters in each string in the Index of the Data-Frame in lower case or not, and returns a Boolean value."
   ]
  },
  {
   "cell_type": "code",
   "execution_count": 40,
   "id": "c89ac20f-fd82-4ee6-9c34-889713912c5b",
   "metadata": {},
   "outputs": [
    {
     "name": "stdout",
     "output_type": "stream",
     "text": [
      "0    False\n",
      "1    False\n",
      "2    False\n",
      "3    False\n",
      "4    False\n",
      "5      NaN\n",
      "6    False\n",
      "Name: Names, dtype: object\n"
     ]
    }
   ],
   "source": [
    "print(df[\"Names\"].str.islower())"
   ]
  },
  {
   "cell_type": "markdown",
   "id": "0afd74ca-182d-427a-9ee6-c0572ebac4fa",
   "metadata": {},
   "source": [
    "<b>16.isupper():</b> It checks whether all characters in each string in the Index of the Data-Frame in upper case or not, and returns a Boolean value."
   ]
  },
  {
   "cell_type": "code",
   "execution_count": 41,
   "id": "b1edff17-c118-4158-bb23-2e205355b077",
   "metadata": {},
   "outputs": [
    {
     "name": "stdout",
     "output_type": "stream",
     "text": [
      "0    False\n",
      "1    False\n",
      "2    False\n",
      "3    False\n",
      "4    False\n",
      "5      NaN\n",
      "6    False\n",
      "Name: Names, dtype: object\n"
     ]
    }
   ],
   "source": [
    "print(df[\"Names\"].str.isupper())"
   ]
  },
  {
   "cell_type": "markdown",
   "id": "2f13c468-c7ee-42be-9395-391cfc6b0d56",
   "metadata": {},
   "source": [
    "<b>17.isnumeric():</b> It checks whether all characters in each string in the Index of the Data-Frame are numeric or not, and returns a Boolean value."
   ]
  },
  {
   "cell_type": "code",
   "execution_count": 42,
   "id": "da9d9666-cbd0-49c1-a5ef-0e3cbdfd2238",
   "metadata": {},
   "outputs": [
    {
     "name": "stdout",
     "output_type": "stream",
     "text": [
      "0    False\n",
      "1    False\n",
      "2    False\n",
      "3    False\n",
      "4    False\n",
      "5      NaN\n",
      "6    False\n",
      "Name: Names, dtype: object\n"
     ]
    }
   ],
   "source": [
    "print(df[\"Names\"].str.isnumeric())"
   ]
  },
  {
   "cell_type": "markdown",
   "id": "d1378844-99ca-4195-9ab1-c8f8982e75d4",
   "metadata": {},
   "source": [
    "<b>18.swapcase():</b> It swaps the case lower to upper and vice-versa. Like in the example below, it converts all uppercase characters in each string into lowercase and vice-versa (lowercase -> uppercase)."
   ]
  },
  {
   "cell_type": "code",
   "execution_count": 43,
   "id": "b78b72b9-f9f0-45fa-9faf-8566951d55f5",
   "metadata": {},
   "outputs": [
    {
     "name": "stdout",
     "output_type": "stream",
     "text": [
      "0     gULSHAN\n",
      "1    sHASHANK\n",
      "2       bABLU\n",
      "3    aBHISHEK\n",
      "4       aNAND\n",
      "5         NaN\n",
      "6      pRATAP\n",
      "Name: Names, dtype: object\n"
     ]
    }
   ],
   "source": [
    "print(df[\"Names\"].str.swapcase())"
   ]
  },
  {
   "cell_type": "markdown",
   "id": "854307b1-b2c7-46e6-b500-c23d3e762cd2",
   "metadata": {},
   "source": [
    "# Pandas: Detect Mixed Data Types and Fix it\n",
    "* What are mixed types in Pandas columns?\n",
    "  => When any column of the Pandas data frame doesn't contain a single type of data, either numeric or string, but contains      mixed type of data, both numeric as well as string, such column is called a mixed data type column.<br>\n",
    "  For example:<br>\n",
    "   data_frame = pd.DataFrame( [['tom', 10], ['nick', '15'], ['juli', 14.8]], columns=['Name', 'Age'])<br>\n",
    "* Causes of mixed data types<br>\n",
    "<b>Missing Values (NaN)<br>\n",
    "Inconsistent Formatting<br>\n",
    "Data Entry Errors</b><br>\n",
    "<h1> identify mixed types in Pandas columns:</h1>\n",
    "For detecting the mixed data types, you need to traverse each column of Pandas data frame, and get the data type using<br> <b>api.types.infer_dtypes() function.</b><br>\n",
    "Syntax:<br>\n",
    "<b>for column in data_frame.columns:<br>\n",
    "   print(pd.api.types.infer_dtype(data_frame[column]))</b>\n",
    "Here,<br> \n",
    "data_frame: It is the Pandas data frame for which you want to detect if it has mixed data types or not."
   ]
  },
  {
   "cell_type": "code",
   "execution_count": 44,
   "id": "673fbfa6-c375-47e6-9668-3b320c755ac0",
   "metadata": {},
   "outputs": [
    {
     "name": "stdout",
     "output_type": "stream",
     "text": [
      "   Name   Age\n",
      "0   Tom    12\n",
      "1  Nick    10\n",
      "2   Bob  15.5\n",
      "Name : string\n",
      "Age : mixed-integer\n"
     ]
    }
   ],
   "source": [
    "#example: Python program to detect mixed data types in Pandas data frame.\n",
    "import pandas as pd\n",
    "# create dataframe\n",
    "data_frame = pd.DataFrame([[\"Tom\",12],[\"Nick\",\"10\"],[\"Bob\",15.5]],columns=[\"Name\",\"Age\"])\n",
    "print(data_frame)\n",
    "# detect mixed data\n",
    "for column in data_frame.columns:\n",
    "    print(column,\":\",pd.api.types.infer_dtype(data_frame[column]))"
   ]
  },
  {
   "cell_type": "markdown",
   "id": "7661c0e5-e11e-4f55-89b3-674f398774c9",
   "metadata": {},
   "source": [
    "<h1>dealing with mixed types in Pandas columns:</h1>\n",
    "For fixing the mixed data types in Pandas data frame, you need to convert entire column into one data type.<br>\n",
    "This can be done using <b>astype()</b> function or <b>to_numeric()</b> function."
   ]
  },
  {
   "cell_type": "markdown",
   "id": "85eaf474-2069-4cb3-8c03-404fd4e10e7c",
   "metadata": {},
   "source": [
    "<h3>Using astype() function:</h3>\n",
    "Syntax:<br>\n",
    "<b>data_frame[column] = data_frame[column].astype(int)</b> \n",
    "Here,<br> \n",
    "<b>data_frame:</b> It is the Pandas data frame for which you want to fix mixed data types.<br>\n",
    "<b>column:</b> It defines all the columns of the Pandas data frame.<br>\n",
    "<b>int:</b> Here, int is the data type in which you want to transform type of each column of Pandas data frame. You can also use str, float, etc. here depending on which data type you want to transform. "
   ]
  },
  {
   "cell_type": "code",
   "execution_count": 45,
   "id": "a51ea28c-da32-4211-a060-080754d5b76a",
   "metadata": {},
   "outputs": [
    {
     "name": "stdout",
     "output_type": "stream",
     "text": [
      "Name : string\n",
      "Age : integer\n",
      "   Name  Age\n",
      "0   Tom   12\n",
      "1  Nick   10\n",
      "2   Bob   15\n"
     ]
    }
   ],
   "source": [
    "# Transfering mixed data types into single data types\n",
    "data_frame[\"Age\"]=data_frame[\"Age\"].astype(int)\n",
    "# Traverse data frame to detect data types after fix\n",
    "for column in data_frame.columns:\n",
    "    print(column,\":\",pd.api.types.infer_dtype(data_frame[column]))\n",
    "print(data_frame)"
   ]
  },
  {
   "cell_type": "markdown",
   "id": "83c352f0-6a2e-4447-8881-abd64b89bffd",
   "metadata": {},
   "source": [
    "<h3>Using to_numeric() function:</h3>\n",
    "The to_numeric() function is used to convert an argument to a numeric data type. In this way, we will see how we can fix mixed data types using to_numeric() function.<br>\n",
    "Syntax:<br>\n",
    "<b>data_frame[column] = data_frame[column].apply(lambda x: pd.to_numeric(x, errors = 'ignore'))</b>\n",
    "Here,<br>\n",
    "<b>data_frame:</b> It is the Pandas data frame for which you want to fix mixed data types.<br>\n",
    "<b>column:</b> It defines all the columns of the Pandas data frame."
   ]
  },
  {
   "cell_type": "code",
   "execution_count": 46,
   "id": "01068c7f-d473-4ef4-be15-95134eb7e605",
   "metadata": {},
   "outputs": [
    {
     "name": "stdout",
     "output_type": "stream",
     "text": [
      "before test:\n",
      "     Name   Age\n",
      "0  Alice    33\n",
      "1   Libi    44\n",
      "2   Jimi  42.5\n",
      "Name : string\n",
      "Age : mixed-integer\n",
      "Name : string\n",
      "Age : floating\n",
      "\n",
      "after fixed:\n",
      "     Name   Age\n",
      "0  Alice  33.0\n",
      "1   Libi  44.0\n",
      "2   Jimi  42.5\n"
     ]
    }
   ],
   "source": [
    "# example:\n",
    "import pandas as pd \n",
    "data_frame2 = pd.DataFrame([[\"Alice\",33],[\"Libi\",\"44\"],[\"Jimi\",42.5]],columns=[\"Name\",\"Age\"])\n",
    "print(\"before test:\\n\",data_frame2)\n",
    "# check mixed data type\n",
    "for column in data_frame2.columns:\n",
    "    print(column,\":\",pd.api.types.infer_dtype(data_frame2[column]))\n",
    "\n",
    "# fixed this problem with to_numeric method\n",
    "# Though apply(lambda x: pd.to_numeric(x,errors=\"ignore\")) can work but there have another method \n",
    "# which more convinent \n",
    "## Apply pd.to_numeric without 'errors' and handle exceptions explicitly\n",
    "def safe_convert(x):\n",
    "    try:\n",
    "        return pd.to_numeric(x)\n",
    "    except Exception:\n",
    "        return x\n",
    "# now use this function on the apply        \n",
    "data_frame2[\"Age\"] = data_frame2[\"Age\"].apply(safe_convert)\n",
    "# check again:\n",
    "for column in data_frame2.columns:\n",
    "    print(column,\":\",pd.api.types.infer_dtype(data_frame2[column]))\n",
    "# final show\n",
    "print(\"\\nafter fixed:\\n\",data_frame2)"
   ]
  },
  {
   "cell_type": "markdown",
   "id": "f2d37a5b-86ba-4d5a-8000-ba31f436fc03",
   "metadata": {},
   "source": [
    "<b>Conclusion:</b>\n",
    "Pandas columns with mixed types can cause problems when analyzing data, but they can be found and resolved using the<br> techniques in this article. Data scientists and software developers can guarantee the accuracy and dependability of their<br> analysis by properly cleaning and preparing the data."
   ]
  },
  {
   "cell_type": "code",
   "execution_count": null,
   "id": "77a4bf77-90d6-49fa-b03d-06d48579570a",
   "metadata": {},
   "outputs": [],
   "source": []
  }
 ],
 "metadata": {
  "kernelspec": {
   "display_name": "Python 3 (ipykernel)",
   "language": "python",
   "name": "python3"
  },
  "language_info": {
   "codemirror_mode": {
    "name": "ipython",
    "version": 3
   },
   "file_extension": ".py",
   "mimetype": "text/x-python",
   "name": "python",
   "nbconvert_exporter": "python",
   "pygments_lexer": "ipython3",
   "version": "3.12.7"
  }
 },
 "nbformat": 4,
 "nbformat_minor": 5
}
