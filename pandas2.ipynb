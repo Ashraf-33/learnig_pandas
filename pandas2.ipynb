{
 "cells": [
  {
   "cell_type": "markdown",
   "id": "12a5c8a0-c57e-438a-b5ab-6fea7d00c06f",
   "metadata": {},
   "source": [
    "# Sorting pandas DataFrame"
   ]
  },
  {
   "cell_type": "markdown",
   "id": "a0f81ca1-7c55-4307-9ff9-ed206bf3a793",
   "metadata": {},
   "source": [
    "In pandas most powerful method for sorting is .sort_values().<br>\n",
    "It works on one or more columns.<br>\n",
    "Note:\n",
    "* Some key parameters for sorting: <br>\n",
    "  1. <h1>by :</h1>  Specifies the column(s) to sort by.<br>\n",
    "  2. <h1>ascending :</h1> Boolean (default True). If False, sort in descending order.<br>\n",
    "  3. <h1>inplace :</h1> If True, modifies the original dataframe or returns a new sorted dataframe.<br>\n",
    "  4. <h1>na_position :</h1> Specifies whether to place NaN values at the beginning ('first') or end ('last').<br>\n",
    "  5. <h1>ignore_index :</h1>  If True, resets the index after sorting."
   ]
  },
  {
   "cell_type": "code",
   "execution_count": null,
   "id": "868bf999-7fe4-465c-8a9e-e06735c92237",
   "metadata": {},
   "outputs": [],
   "source": [
    "import pandas as pd\n",
    "data = {\"Name\":[\"Alice\",\"Bob\",\"Franklin\",\"Michel\"],\n",
    "       \"Age\":[25,30,45,40],\n",
    "       \"Score\":[80,90,95,85]}\n",
    "# create dataframe\n",
    "df = pd.DataFrame(data)\n",
    "# sorting \"Age\" in assending order and by referce the column.\n",
    "sort_df = df.sort_values(by=\"Age\")\n",
    "print(sort_df)"
   ]
  },
  {
   "cell_type": "code",
   "execution_count": null,
   "id": "aec0107c-e63f-4e8d-a25c-23d4956e1b4a",
   "metadata": {},
   "outputs": [],
   "source": [
    "# sort \"Age\" in desending order\n",
    "sort_df2 = df.sort_values(by=\"Age\",ascending=False) # if i gave ascending=True it will gives default order\n",
    "print(sort_df2)"
   ]
  },
  {
   "cell_type": "code",
   "execution_count": null,
   "id": "cead6caf-6f59-4e49-8e6b-a04d84b439b2",
   "metadata": {
    "scrolled": true
   },
   "outputs": [],
   "source": [
    "# sorting multiple columns \n",
    "import pandas as pd\n",
    "data = {\"Name\":[\"Alice\",\"Bob\",\"Franklin\",\"Michel\"],\n",
    "       \"Age\":[25,30,45,40],\n",
    "       \"Score\":[80,90,95,85]}\n",
    "# create dataframe\n",
    "df2 = pd.DataFrame(data)\n",
    "\n",
    "sort_age_score = df2.sort_values(by=[\"Age\",\"Score\"],ascending=True)\n",
    "print(sort_age_score)\n",
    "# in this line it sorted by \"Age\" if \"Age\" values same, than \"score\" also be sorted.\n",
    "# so, to sort score:\n",
    "sort_score=df2.sort_values(by=\"Score\",ascending=True)\n",
    "print(\"Sorted Score :\\n\",sort_score)"
   ]
  },
  {
   "cell_type": "markdown",
   "id": "d74f079b-cba8-4030-b56c-63f8b363ce40",
   "metadata": {},
   "source": [
    "<h1>Sort dataset with missing values :</h1>\n",
    "Here na_position will be work<br>\n",
    "Note: sort_values by default placed the missing value in the last.<br>\n",
    "So, to place this missing value in other place use na_position"
   ]
  },
  {
   "cell_type": "code",
   "execution_count": null,
   "id": "6c80d208-bdb0-4f34-8dd6-bcd633fc6213",
   "metadata": {},
   "outputs": [],
   "source": [
    "import pandas as pd\n",
    "data_nan = {\"Name\":[\"Charie\",\"Bob\",\"Alice\",\"Michel\"],\n",
    "        \"Age\":[25,22,None,22]}\n",
    "df_nan = pd.DataFrame(data_nan)\n",
    "sort1 = df_nan.sort_values(by=\"Age\")\n",
    "print(sort1)\n",
    "# sorted by age place missing value in first\n",
    "sort_nan = df_nan.sort_values(by=\"Age\",na_position=\"first\")\n",
    "print(\"after using na_position:\",sort_nan)"
   ]
  },
  {
   "cell_type": "markdown",
   "id": "8602e037-2685-49be-b231-47c0ea05dfc2",
   "metadata": {},
   "source": [
    "# Sorting algorithm using .kind=\"parameter\""
   ]
  },
  {
   "cell_type": "markdown",
   "id": "7ea579d7-4346-4a9c-8dd0-f9391e1e1bd5",
   "metadata": {},
   "source": [
    "<b>1. quicksort :</b> Quicksort is a highly efficient, divide-and-conquer sorting algorithm.<br> \n",
    "It selects a \"pivot\" element and partitions the dataset into two halves:<br>\n",
    "one with elements smaller than the pivot and the other with elements greater than the pivot.<br>\n",
    "<b>2. meresort :</b>  Divides the dataset into smaller subarrays, sorts them,<br>\n",
    "and then merges them back together in sorted order.<br>\n",
    "<b>3. heapsort :</b>  Heapsort is another comparison-based sorting algorithm that<br>\n",
    "builds a heap data structure to systematically extract the largest or smallest element and reorder the dataset.<br>\n"
   ]
  },
  {
   "cell_type": "code",
   "execution_count": null,
   "id": "d9164f65-45f7-41c1-a407-facb50608b27",
   "metadata": {},
   "outputs": [],
   "source": [
    "import pandas as pd\n",
    "data3 ={\"Name\":[\"Alice\", \"Bob\", \"Charlie\", \"David\", \"Eve\"],\n",
    "       \"Age\":[28,22,25,22,28],\n",
    "    \"Score\":[85,90,95,80,88]}\n",
    "df3 = pd.DataFrame(data3)\n",
    "# sorting \"Age\" by using mergesort\n",
    "sort_df = df3.sort_values(by=\"Age\",kind=\"mergesort\")\n",
    "print(sort_df)"
   ]
  },
  {
   "cell_type": "markdown",
   "id": "4449a28a-4972-411a-ba60-04f998d867d4",
   "metadata": {},
   "source": [
    "<b>Custom sort by key function</b><br>\n",
    "by using key parameter"
   ]
  },
  {
   "cell_type": "code",
   "execution_count": null,
   "id": "4501d036-1b98-49e9-84ab-740dfc8469f9",
   "metadata": {},
   "outputs": [],
   "source": [
    "# sorting by name with alphabetical order\n",
    "sort_df2 = df3.sort_values(by=\"Name\",key=lambda col: col.str.lower())\n",
    "print(sort_df2)"
   ]
  },
  {
   "cell_type": "markdown",
   "id": "fcadc19a-0d09-4156-8592-8c6fc46816c7",
   "metadata": {},
   "source": [
    "<b>Key Takeaways:</b><br>\n",
    "\n",
    "<b>1.</b>sort_values() is versatile and allows sorting by one or multiple columns.<br>\n",
    "<b>2.</b>You can control whether sorting is ascending or descending using the ascending parameter.<br>\n",
    "<b>3.</b>Missing values (NaN) can be placed at either the beginning or end using the na_position parameter.<br>\n",
    "<b>4.</b>Custom sorting logic can be applied using the<b>key</b> parameter."
   ]
  },
  {
   "cell_type": "markdown",
   "id": "64e70049-b90d-4189-a51d-14ccdc47d556",
   "metadata": {},
   "source": [
    "# Learning Pivotal Table by using pandas"
   ]
  },
  {
   "cell_type": "code",
   "execution_count": null,
   "id": "277a1bd0-4b02-4f62-b208-71357b18c3f7",
   "metadata": {},
   "outputs": [],
   "source": [
    "# Creat a simple dataframe \n",
    "#Columns will be product,category,quantity,amount\n",
    "import pandas as pd\n",
    "df = pd.DataFrame({\"Product\":[\"Carrots\",\"Broccoli\",\"Banana\",\"Banana\",\"Beans\",\"Orange\",\"Broccoli\",\"Banana\"],\n",
    "                  \"Category\":[\"Vagetable\",\"Vagetable\",\"Fruit\",\"Fruit\",\"Vagetable\",\"Fruit\",\"Vagetable\",\"Fruit\"],\n",
    "                  \"Quantity\":[8,5,3,4,5,9,11,8],\n",
    "                  \"Amount\":[270,239,617,384,626,610,62,90]})\n",
    "df"
   ]
  },
  {
   "cell_type": "markdown",
   "id": "b28d4035-dc7f-4c44-90a3-af205fa06d86",
   "metadata": {},
   "source": [
    "<b>Using some example to understand the work of pivotal table</b><br>\n",
    "<b>Example 1:</b> Get the total sales of each product"
   ]
  },
  {
   "cell_type": "code",
   "execution_count": null,
   "id": "40478497-99c1-4673-bd2b-797c3f769f2a",
   "metadata": {},
   "outputs": [],
   "source": [
    "pivot_prod = df.pivot_table(index=[\"Product\"],values=[\"Amount\"],aggfunc=[\"sum\"])\n",
    "print(pivot_prod)"
   ]
  },
  {
   "cell_type": "markdown",
   "id": "5832188d-1e34-4428-8314-048e784b01b2",
   "metadata": {},
   "source": [
    "<b>Example 2:</b> Get the total sales of each category"
   ]
  },
  {
   "cell_type": "code",
   "execution_count": null,
   "id": "a34f3812-91b4-4b72-8388-3164c82f3484",
   "metadata": {},
   "outputs": [],
   "source": [
    "pivot_cate = df.pivot_table(index=[\"Category\"],values=[\"Amount\"],aggfunc=[\"sum\"])\n",
    "print(pivot_cate)"
   ]
  },
  {
   "cell_type": "markdown",
   "id": "c0fa7415-e701-4aa6-b2b8-1f05b1783c20",
   "metadata": {},
   "source": [
    "<b>Example 3:</b> Get the total sales by category and product both"
   ]
  },
  {
   "cell_type": "code",
   "execution_count": null,
   "id": "5dff2e92-c305-4d10-997a-b0a4660a76a7",
   "metadata": {},
   "outputs": [],
   "source": [
    "pivot_both = df.pivot_table(index=[\"Product\",\"Category\"],values=[\"Amount\"],aggfunc=[\"sum\"])\n",
    "print(pivot_both)"
   ]
  },
  {
   "cell_type": "markdown",
   "id": "3daffad7-56b3-4c3b-9163-7a952d9d32c7",
   "metadata": {},
   "source": [
    "<b>Example 4:</b> Get the mean,median,minimum sales by category"
   ]
  },
  {
   "cell_type": "code",
   "execution_count": null,
   "id": "304b125a-c9af-49e4-958e-6ab8c9d04af6",
   "metadata": {},
   "outputs": [],
   "source": [
    "pivot_cat_3m = df.pivot_table(index=[\"Category\"],values=[\"Amount\"],aggfunc=[\"mean\",\"median\",\"min\"])\n",
    "print(pivot_cat_3m)"
   ]
  },
  {
   "cell_type": "markdown",
   "id": "ea4b1157-fa66-4446-9271-43a3426ef0b3",
   "metadata": {},
   "source": [
    "<b>Example 5:</b> Get the mean,median,minimum sales by product"
   ]
  },
  {
   "cell_type": "code",
   "execution_count": null,
   "id": "acb4a69e-6055-448c-b944-f23992a7a6cd",
   "metadata": {},
   "outputs": [],
   "source": [
    "pivot_pro_3m = df.pivot_table(index=[\"Product\"],values=[\"Amount\"],aggfunc=[\"median\",\"mean\",\"min\"])\n",
    "print(pivot_pro_3m)"
   ]
  },
  {
   "cell_type": "code",
   "execution_count": null,
   "id": "1731aa35-3afc-40ec-bb68-136f1d4f2859",
   "metadata": {},
   "outputs": [],
   "source": []
  }
 ],
 "metadata": {
  "kernelspec": {
   "display_name": "Python 3 (ipykernel)",
   "language": "python",
   "name": "python3"
  },
  "language_info": {
   "codemirror_mode": {
    "name": "ipython",
    "version": 3
   },
   "file_extension": ".py",
   "mimetype": "text/x-python",
   "name": "python",
   "nbconvert_exporter": "python",
   "pygments_lexer": "ipython3",
   "version": "3.12.7"
  }
 },
 "nbformat": 4,
 "nbformat_minor": 5
}
